{
 "cells": [
  {
   "cell_type": "markdown",
   "metadata": {
    "slideshow": {
     "slide_type": "slide"
    }
   },
   "source": [
    "# Fysik, statistik och lite artificiell intelligens <br/>- en bild av den moderna ingenjören\n",
    "## Christian Forssén"
   ]
  },
  {
   "cell_type": "markdown",
   "metadata": {},
   "source": [
    "### Teoretisk subatomär fysik, Institutionen för fysik, Chalmers\n",
    "\n",
    "#### 2018-01-18, SNF Cocktail party\n",
    "* Denna presentation är baserad på en [ipython](https://ipython.org/) notebook. Själva presentationen är en [Reveal.js](https://revealjs.com/#/) HTML slideshow skapad genom [nbconvert](https://github.com/jupyter/nbconvert) direkt från ovan nämnda notebook.\n",
    "* Allt material och källkod är samlat i säkert men publikt [git](https://git-scm.com/) förvar (ett s.k. \"git repository\") på [github](https://github.com/cforssen/SNFcocktail), tillgängligt för alla och envar att ladda ner och testa själv.\n",
    "```\n",
    "[~]$ git clone https://github.com/cforssen/SNFcocktail.git\n",
    "[~]$ cd SNFcocktail\n",
    "```\n",
    "* Se också [Teoretisk subatomär fysiks](http://fy.chalmers.se/subatom/tsp/index.php) hemsida (se [\"for students\"](http://fy.chalmers.se/subatom/tsp/index.php?page=teaching))."
   ]
  },
  {
   "cell_type": "markdown",
   "metadata": {
    "slideshow": {
     "slide_type": "subslide"
    }
   },
   "source": [
    "## Innehåll\n",
    "* Först lite fysik\n",
    "* ... och lite statistik i två olika skepnader\n",
    "* ... plus lite beräkningsfysik\n",
    "* Sedan en ny horisont genom att kombinera fysik och statistik med maskininlärning\n",
    "* ... och slutligen framträder en bild av den moderna ingenjören!"
   ]
  },
  {
   "cell_type": "markdown",
   "metadata": {
    "slideshow": {
     "slide_type": "subslide"
    }
   },
   "source": [
    "## Att kvantifiera sin osäkerhet är inte lätt..."
   ]
  },
  {
   "cell_type": "markdown",
   "metadata": {
    "slideshow": {
     "slide_type": "fragment"
    }
   },
   "source": [
    "> Ett militärt angrepp mot Sverige är osannolikt.\n",
    "\n",
    "Stefan Löfvén, 2018."
   ]
  },
  {
   "cell_type": "markdown",
   "metadata": {
    "slideshow": {
     "slide_type": "fragment"
    }
   },
   "source": [
    "> Ett väpnat angrepp på Sverige kan inte uteslutas.\n",
    "\n",
    "Försvarsberedningen, 2017."
   ]
  },
  {
   "cell_type": "markdown",
   "metadata": {
    "slideshow": {
     "slide_type": "fragment"
    }
   },
   "source": [
    "### Inom naturvetenskap är kunskap om osäkerheter av stor betydelse."
   ]
  },
  {
   "cell_type": "markdown",
   "metadata": {
    "slideshow": {
     "slide_type": "subslide"
    }
   },
   "source": [
    "#### Referenser\n",
    "* Intressant och lärorik bloggpost [\"Frequentism and Bayesianism: A Practical Introduction\"](http://jakevdp.github.io/blog/2014/03/11/frequentism-and-bayesianism-a-practical-intro/) på bloggen [Pythonic Perambulations](http://jakevdp.github.io).\n",
    "* Litteratur: [Data Analysis: A Bayesian Tutorial](https://global.oup.com/academic/product/data-analysis-9780198568322?cc=se&lang=en&) och [Bayesian Logical Data Analysis for the Physical Sciences](https://www.cambridge.org/core/books/bayesian-logical-data-analysis-for-the-physical-sciences/09E9A95DAE275F5B005676C71B542598)\n",
    "* [GPy](http://sheffieldml.github.io/GPy/) en pythonmodul för Gaussprocesser (GP), från maskininlärningsgruppen på Sheffield University.\n",
    "* [TensorFlow](https://www.tensorflow.org/) ett öppet programbibliotek för maskinintelligens genom neurala nätverk. Det utgör basen för [Keras](https://keras.io/): ett python API för Deep Learning.\n",
    "* ... för min del började detta med ett 26-dimensionellt optimeringsproblem inom utvecklandet av effektiva fältteorier, en gedigen statistisk analys (samt några mycket hängivna kandidatarbetare och en väldigt duktig doktorand): [Phys. Rev. X 6 (2016) 011019](https://journals.aps.org/prx/abstract/10.1103/PhysRevX.6.011019)."
   ]
  },
  {
   "cell_type": "markdown",
   "metadata": {
    "slideshow": {
     "slide_type": "slide"
    }
   },
   "source": [
    "## Python\n",
    "\n",
    "Att installera Python, samt de bibliotek som möjliggör vetenskapliga beräkningar, är inte särskilt svårt.\n",
    "\n",
    "Jag rekommenderar Anaconda, med pakethanteraren conda, som fungerar för Windows, Linux, och Mac OS X.\n",
    "\n",
    "- [Anaconda](https://www.continuum.io/downloads) inkluderar både Python och conda, samt ett antal förinstallerade paket. Denna distribution tar dock en hel del plats. Ett alternativ är [Miniconda](http://conda.pydata.org/miniconda.html). Se också [condas online dokumentation](http://conda.pydata.org/docs/)\n",
    "\n",
    "Välj en version med Python 3–och installera de moduler som krävs för denna presentation:\n",
    "\n",
    "```\n",
    "[~]$ conda install numpy scipy pandas gpy matplotlib seaborn jupyter\n",
    "```\n",
    "\n",
    "Eller ännu bättre, skapa en virtuell miljö för just detta projekt (alla nödvändiga moduler listas i filen 'environment.yml'):\n",
    "```\n",
    "[~]$ conda env create\n",
    "[~]$ source activate SNF-env\n",
    "```"
   ]
  },
  {
   "cell_type": "markdown",
   "metadata": {
    "slideshow": {
     "slide_type": "subslide"
    }
   },
   "source": [
    "Sedan startar vi en [jupyter (ipython) notebook](http://jupyter.org/):\n",
    "```\n",
    "[~]$ jupyter notebook SNF_presentation.ipynb\n",
    "```"
   ]
  },
  {
   "cell_type": "markdown",
   "metadata": {
    "slideshow": {
     "slide_type": "fragment"
    }
   },
   "source": [
    "och börjar med att importera ett par viktiga moduler:"
   ]
  },
  {
   "cell_type": "code",
   "execution_count": 1,
   "metadata": {
    "slideshow": {
     "slide_type": "-"
    }
   },
   "outputs": [],
   "source": [
    "import numpy as np\n",
    "import matplotlib.pyplot as plt\n",
    "\n",
    "%matplotlib inline"
   ]
  },
  {
   "cell_type": "code",
   "execution_count": 2,
   "metadata": {
    "slideshow": {
     "slide_type": "skip"
    }
   },
   "outputs": [],
   "source": [
    "# Some care is needed when removing warnings. But for the final version of this notebook it should be safe.\n",
    "import warnings\n",
    "warnings.simplefilter(\"ignore\", UserWarning)\n",
    "warnings.simplefilter(\"ignore\", FutureWarning)"
   ]
  },
  {
   "cell_type": "code",
   "execution_count": 3,
   "metadata": {
    "slideshow": {
     "slide_type": "skip"
    }
   },
   "outputs": [],
   "source": [
    "# Not really needed, but nicer plots\n",
    "import seaborn as sns\n",
    "sns.set()\n",
    "sns.set_context(\"talk\")"
   ]
  },
  {
   "cell_type": "markdown",
   "metadata": {
    "slideshow": {
     "slide_type": "slide"
    }
   },
   "source": [
    "# Subatomär fysik \n",
    "## från det lilla till det stora"
   ]
  },
  {
   "cell_type": "markdown",
   "metadata": {},
   "source": [
    "[Theoretical Subatomic Physics](http://fy.chalmers.se/subatom/tsp/index.php), Department of Physics, Chalmers\n",
    "\n",
    "![](figures/800px-tsp.png)"
   ]
  },
  {
   "cell_type": "markdown",
   "metadata": {
    "slideshow": {
     "slide_type": "subslide"
    }
   },
   "source": [
    "### Subatomär fysik är fundamentalt gränsöverskridande\n",
    "| Vetenskapsfält | Längdskala\t    | Exempel på vetenskapliga frågor |\n",
    "|---------------|-------------|-------------|\n",
    "| Astrofysik och kosmologi | giga | -Hur har våra grundämnen bildats i universum? <br/>-Vad är mörk materia? |\n",
    "| Kvantfenomen | nano | -Hur uppstår kollektiva fenomen ur system med många partiklar? <br/>-Vilka unika egenskaper har öppna kvantsystem? |\n",
    "| Kärnfysik   | femto | -Vilka isotoper är bundna? <br/>-Kan atomkärnor användas för precisionstester av fundamentala symmetrier? |\n",
    "| Partikelfysik | subfemto | -Kan vi lösa QCD för hadroniska system? <br/>-Hur skulle en ny standardmodell för partikelfysik kunna konstrueras? |"
   ]
  },
  {
   "cell_type": "markdown",
   "metadata": {
    "slideshow": {
     "slide_type": "subslide"
    }
   },
   "source": [
    "# Effektiva teorier"
   ]
  },
  {
   "cell_type": "markdown",
   "metadata": {
    "slideshow": {
     "slide_type": "fragment"
    }
   },
   "source": [
    "Användbart för att beskriva okänd fysik i termer av effektiva frihetsgrader och kända observationer:\n",
    "* T.ex. atomkärnor i termer av protoner och neutroner trots att de underliggande frihetsgraderna är kvarkar och gluoner.\n",
    "* Eller växelverkan mellan mörk materia och vanlig materia trots att vi inte vet vad för partikel det är eller hur själva växelverkan förmedlas.\n",
    "\n",
    "Kräver dock vetskap om relevanta skalor och symmetrier."
   ]
  },
  {
   "cell_type": "markdown",
   "metadata": {
    "slideshow": {
     "slide_type": "subslide"
    }
   },
   "source": [
    "## Svag växelverkan enligt Fermi (1933)\n",
    "\n",
    "![](figures/200px-svag_vxv_utan_W.png)"
   ]
  },
  {
   "cell_type": "markdown",
   "metadata": {
    "slideshow": {
     "slide_type": "fragment"
    }
   },
   "source": [
    "och idag enligt Standardmodellen\n",
    "\n",
    "![](figures/278px-svag_vxv_med_W.png)"
   ]
  },
  {
   "cell_type": "markdown",
   "metadata": {
    "slideshow": {
     "slide_type": "skip"
    }
   },
   "source": [
    "En klassisk analogi till en effektiv teori är multipolexpansion av ett elektriskt fält långt bort från en okänd (men liten) laddningsfördelning ($a \\ll r$).\n",
    "\n",
    "![](figures/charge_distribution.png)\n",
    "\n",
    "Dvs hur kan vi beskriva den elektriska potentialen som en summa av mindre och mindre viktiga termer (vi inför en dimensionslös expansionsparameter $\\frac{a}{r} \\ll 1$) samt ett begränsat antal okända parametrar $c_i$ (att jämföra med den stora mängd information som finns inbyggd i total kunskap om laddningsfördelningen):\n",
    "\n",
    "$$\n",
    "\\phi(\\vec{r}) = c_0 \\left( \\frac{a}{r} \\right)^0 + c_1 \\left( \\frac{a}{r} \\right)^1 + c_2 \\left( \\frac{a}{r} \\right)^2 + \\ldots\n",
    "$$"
   ]
  },
  {
   "cell_type": "markdown",
   "metadata": {
    "slideshow": {
     "slide_type": "skip"
    }
   },
   "source": [
    "Det visar sig (se detaljer nedan...) att\n",
    "\n",
    "$$\n",
    "\\phi(\\vec{r}) \\propto \\frac{q}{r} \\left[ 1 + \\tilde{\\mu}(\\theta) \\left( \\frac{a}{r} \\right)^1 + \\tilde{Q}(\\theta) \\left( \\frac{a}{r} \\right)^2 + \\mathcal{O}\\left( \\frac{a^3}{r^3} \\right) \\right]\n",
    "$$\n",
    "\n",
    "där \n",
    "* $q$ är den totala laddningen hos laddningsfördelningen,\n",
    "* $\\tilde{\\mu}(\\theta)$ är dess (dimensionslösa) dipolmoment,\n",
    "* $\\tilde{Q}(\\theta)$ är dess (dimensionslösa) kvadrupolmoment,\n",
    "* etc"
   ]
  },
  {
   "cell_type": "markdown",
   "metadata": {
    "slideshow": {
     "slide_type": "skip"
    }
   },
   "source": [
    "Lite mer detaljer.\n",
    "$$\n",
    "\\phi(\\vec{r}) \\propto \\int \\frac{\\rho(\\vec{r}')}{|\\vec{r} - \\vec{r}'|} dV'\n",
    "= \\frac{1}{r} \\left[ \\int \\rho(\\vec{r}') dV' + \\int \\rho(\\vec{r}') \\frac{r'}{r} \\cos\\theta dV' \n",
    "+ \\int \\rho(\\vec{r}') \\left(\\frac{r'}{r}\\right)^2 \\left( \\frac{3}{2}\\cos^2\\theta - \\frac{1}{2}\\right) dV' + \\ldots \n",
    "\\right]\n",
    "= \\frac{q}{r} \\left[ \\left( \\frac{a}{r} \\right)^0 + \\tilde{\\mu} \\left( \\frac{a}{r} \\right)^1 + \\tilde{Q} \\left( \\frac{a}{r} \\right)^2 + \\mathcal{O}\\left( \\frac{a^3}{r^3} \\right) \\right]\n",
    "$$"
   ]
  },
  {
   "cell_type": "markdown",
   "metadata": {
    "slideshow": {
     "slide_type": "skip"
    }
   },
   "source": [
    "där vi har använt att\n",
    "$$\n",
    "\\frac{1}{|\\vec{r} - \\vec{r}'|} = \\frac{1}{r} \\times \\frac{1}{|\\hat{r} - \\hat{r}'(r'/r)}\n",
    "= \\frac{1}{r} \\times \\frac{1}{[1 -2\\cos\\theta(r'/r)+(r'/r)^2]^{1/2}}\n",
    "$$\n",
    "och gjort en Taylorutveckling ($r'/r \\ll 1$)\n",
    "$$\n",
    "\\frac{1}{|\\vec{r} - \\vec{r}'|} = \\frac{1}{r} \\left[ 1 + \\cos\\theta \\left( \\frac{r'}{r} \\right) + \\left( \\frac{3}{2}\\cos^2\\theta - \\frac{1}{2} \\right) \\left( \\frac{r'}{r} \\right)^2 + \\mathcal{O} \\left( \\frac{r'^3}{r^3} \\right) \\right]\n",
    "$$\n",
    "Den totala laddningen ges uppenbart av integralen\n",
    "$$\n",
    "q = \\int \\rho(\\vec{r}') dV'\n",
    "$$\n",
    "medan de andra multipolmomenten ges av liknande integraler som uppkommer genom de följande termerna i Taylorutvecklingen."
   ]
  },
  {
   "cell_type": "markdown",
   "metadata": {
    "slideshow": {
     "slide_type": "subslide"
    }
   },
   "source": [
    "## Kvantstegen\n",
    "\n",
    "![](figures/kvantstegen_800x478.png)"
   ]
  },
  {
   "cell_type": "markdown",
   "metadata": {
    "slideshow": {
     "slide_type": "subslide"
    }
   },
   "source": [
    "> Du kan välja vilka frihetsgrader som du vill för att beskriva ett fysikaliskt system.\n",
    "> Men väljer du fel så kommer du att ångra dig.\n",
    "\n",
    "S. Weinberg (fritt översatt)"
   ]
  },
  {
   "cell_type": "markdown",
   "metadata": {
    "slideshow": {
     "slide_type": "subslide"
    }
   },
   "source": [
    "## Starkt växelverkande system\n",
    "För att beskriva stark växelverkan vid låga energier är det (nästan) praktiskt omöjligt att använda QCD med kvarkar och gluoner som frihetsgrader. \n",
    "\n",
    "Istället har man utvecklat chiral effektiv fältteori (EFT) med pioner och nukleoner som frihetsgrader\n",
    "\n",
    "![](figures/chiral_force_472x413.png) "
   ]
  },
  {
   "cell_type": "markdown",
   "metadata": {
    "slideshow": {
     "slide_type": "subslide"
    }
   },
   "source": [
    "### EFT parametrar\n",
    "För en EFT ryms okänd fysik inuti *\"lågenergikonstanter\"* (LECs), som alltså blir teoretiska parametrar.\n",
    "\n",
    "| Ordning\t    | Antal parametrar (LEC) |\n",
    "|---------------|-------------|\n",
    "| Leading Order (LO)   | 2 |\n",
    "| Next-to-Leading-Order (NLO) | 12 |\n",
    "| Next-to-Next-to-Leading-Order (N2LO) | 26 |\n",
    "| Next-to-Next-to-Next-to-Leading-Order (N3LO) | 41 |\n",
    "\n",
    "...fast det är värt att påpeka att letandet efter den *\"bästa\"* EFTn fortfarande pågår."
   ]
  },
  {
   "cell_type": "markdown",
   "metadata": {
    "slideshow": {
     "slide_type": "subslide"
    }
   },
   "source": [
    "Givet en uppsättning parametrar är det möjligt att göra teoretiska prediktioner av (bland annat):\n",
    "* Gränserna för bunden kärnmateria (vilka isotoper kan existera i naturen).\n",
    "* Möjliga processer för kärnsyntesen (hur och var har våra grundämnen bildats).\n",
    "* Atomkärnors respons till olika svaga processer \n",
    "  * detektion av mörk materia\n",
    "  * neutrinolöst dubbelt betasönderfall\n",
    "  * och andra effekter som skulle känneteckna fysik bortanför standradmodellen\n",
    "* Egenskaper hos bundna och instabila atomkärnor (spektroskopi) samt hos oändlig kärnmateria (neutronstjärnor, etc).\n",
    "* etc."
   ]
  },
  {
   "cell_type": "markdown",
   "metadata": {
    "slideshow": {
     "slide_type": "subslide"
    }
   },
   "source": [
    "Men i samtliga dessa fall krävs storskaliga beräkningar för att komma fram till själva prediktionen\n",
    "* Vi behöver t.ex. kunna lösa ett kvantmekaniskt mångkropparsproblem (atomkärna med $N$ nukleoner)<br/><br/>\n",
    "$H | \\Psi \\rangle = E | \\Psi \\rangle$\n",
    "<br/><br/>\n",
    "där både $H$ och $\\Psi$ beror på $N$ stycken koordinater och $N$ uppsättningar med intriniska frihetsgrader (spinn, isospinn).\n",
    "\n",
    "* Detta problem kan formuleras på olika sätt:\n",
    "  * t.ex. som en $3(N-1)$-dimensionell integral, t.ex. 33 dimensioner för kol-12.\n",
    "  * Eller som ett matrisegenvärdesproblem<br/><br/>\n",
    "$\\Psi = \\sum_i^D c_i | \\phi_i\\rangle \\quad \\Rightarrow \\quad \\sum_j^D \\langle \\phi_j | H | \\phi_i \\rangle = E c_i$ <br/><br/>\n",
    "med problemet att $D$ kan vara $10^{10}$ eller ännu större!\n",
    "\n",
    "... och dessutom är prediktionen väldigt lite värd utan en uppskattning av dess precision"
   ]
  },
  {
   "cell_type": "markdown",
   "metadata": {
    "slideshow": {
     "slide_type": "slide"
    }
   },
   "source": [
    "# Den vetenskapliga metoden"
   ]
  },
  {
   "cell_type": "markdown",
   "metadata": {
    "slideshow": {
     "slide_type": "fragment"
    }
   },
   "source": [
    "> Att vara osäker är obehagligt..."
   ]
  },
  {
   "cell_type": "markdown",
   "metadata": {
    "slideshow": {
     "slide_type": "fragment"
    }
   },
   "source": [
    "> ... fast att vara helt säker är å andra sidan helt absurt!\n",
    "\n",
    "\n",
    "Voltaire (fritt översatt)"
   ]
  },
  {
   "cell_type": "markdown",
   "metadata": {
    "slideshow": {
     "slide_type": "subslide"
    }
   },
   "source": [
    "![](figures/scientific_wheel.png)\n",
    "[Källkod till figuren med XKCD font finns i extramaterialet](SNF_presentation_extra.ipynb)"
   ]
  },
  {
   "cell_type": "markdown",
   "metadata": {
    "slideshow": {
     "slide_type": "slide"
    }
   },
   "source": [
    "# Att kvantifiera osäkerhet: Statistik\n",
    "## Två olika synsätt: Frekventist eller Bayesian?"
   ]
  },
  {
   "cell_type": "markdown",
   "metadata": {
    "slideshow": {
     "slide_type": "fragment"
    }
   },
   "source": [
    "| Statistiker\t    | Definition av sannolikhet |\n",
    "|---------------|-------------|\n",
    "| Frekventist   | $P(A)$ = relativ frekvens med vilken $A$ uppkommer för identiska repetitioner av ett experiment. <br/><br/>$A$ är en proposition angående slumpmässiga variabler. |\n",
    "| Bayesian   | $P(A \\vert B)$ = ett reellt tal som mäter plausibiliteten för hypotes $A$ givet den information/data som representeras av $B$. <br/><br/>$A$ kan vara vilken sorts hypotes som helst; måste inte begränsas till propositioner angående slumpmässiga variabler. |\n",
    "\n",
    "För Bayesianer inbegriper konceptet ```\"sannolikhet\"``` uttalanden om hur säker man är på något (```\"degrees of certainty\"```). \n",
    "\n",
    "Ett uttalande om sannolikhet är fundamentalt kopplat till den kunskap som personen besitter, som i sin tur är baserad på tillgänglig data och annan information ```\"prior information\"```. Notera att olika personer kan vara olika säkra på ett påstående beroende på vilken information de besitter.  "
   ]
  },
  {
   "cell_type": "markdown",
   "metadata": {
    "slideshow": {
     "slide_type": "subslide"
    }
   },
   "source": [
    "Betrakta en modell med ett antal fria parametrar $p$. Bayesianer utgår från [Bayes teorem](http://en.wikipedia.org/wiki/Bayes\\'_theorem), som är en fundamental sannolikhetslag:\n",
    "\n",
    "$$ P(p~|~D,I) = \\frac{P(D~|~p,I)~P(p~|~I)}{P(D~|~I)} $$\n",
    "\n",
    "Låt oss studera de olika faktorerna i detta uttryck:\n",
    "\n",
    "- $P(p~|~D,I)$: Aposteriorifördelning (**posterior**), sannolikheten för modellparametrarna givet data $D$ och information $I$. Detta är generellt den kunskap som vi vill kunna kvantifiera.\n",
    "- $P(D~|~p,I)$: Likelihood-funktion (**likelihood**), vilken dyker upp även i frekventistmetoden där man ofta söker att maximera den.\n",
    "- $P(p~|~I)$: Apriorifördelning (**prior**), vilken beskriver vad vi vet om modellen före insamlingen an data $D$.\n",
    "- $P(D~|~I)$: Datasannolikhet (**Data probability**), vilket i praktiken motsvarar en normaliseringskonstant.\n",
    "\n",
    "Notera att denna formulering är *fundamentalt annorlunda* jämfört med frekventisters filosofi. Den senare påstår nämligen att begreppet sannolikhet inte har någon mening för modellparametrar. Istället pratar man om sannolikhet (eller frekvens) att observera viss data given en fix modell."
   ]
  },
  {
   "cell_type": "markdown",
   "metadata": {
    "slideshow": {
     "slide_type": "subslide"
    }
   },
   "source": [
    "Dessa två angreppssätt för att göra statistisk inferens är ofta ekvivalenta, åtminstone för enkla problem. Men det Bayesianska, med sina explicita uttalanden om <b>förhandsinformation</b>, och sin tydliga koppling till <b>tillgänglig data</b> är mer naturlig inom naturvetenskap.\n",
    "\n",
    "Två situationer där skillnaderna är speciellt tydliga gäller:\n",
    "1. Hanterandet av \"irritationsparametrar\" (<b>nuisance parameters</b>).\n",
    "2. Den subtila (men otroligt viktiga) skillnaden mellan frekventisters <b>konfidensintervall</b> och bayesianska <b>kredibilitetsintervall</b>."
   ]
  },
  {
   "cell_type": "markdown",
   "metadata": {
    "slideshow": {
     "slide_type": "slide"
    }
   },
   "source": [
    "## Exempel #1: Ett Bayesianskt biljardspel\n",
    "På engelska. \n",
    "Hämtat från bloggposten [Frequentism and Bayesianism II: When Results Differ](http://jakevdp.github.io/blog/2014/06/06/frequentism-and-bayesianism-2-when-results-differ/) \n",
    "\n",
    "This example of nuisance parameters dates all the way back to the posthumous [1763 paper](http://www.stat.ucla.edu/history/essay.pdf) written by Thomas Bayes himself. The particular version of this problem used here is borrowed from [Eddy 2004](ftp://selab.janelia.org/pub/publications/Eddy-ATG3/Eddy-ATG3-reprint.pdf).\n",
    "\n",
    "The setting is a rather contrived game in which Alice and Bob bet on the outcome of a process they can't directly observe:\n",
    "\n",
    "Alice and Bob enter a room. Behind a curtain there is a billiard table, which they cannot see, but their friend Carol can. Carol rolls a ball down the table, and marks where it lands. Once this mark is in place, Carol begins rolling new balls down the table. If the ball lands to the left of the mark, Alice gets a point; if it lands to the right of the mark, Bob gets a point.  We can assume for the sake of example that Carol's rolls are unbiased: that is, the balls have an equal chance of ending up anywhere on the table.  The first person to reach **six points** wins the game.\n",
    "\n",
    "Here the location of the mark (determined by the first roll) can be considered a nuisance parameter: it is unknown, and not of immediate interest, but it clearly must be accounted for when predicting the outcome of subsequent rolls. If the first roll settles far to the right, then subsequent rolls will favor Alice. If it settles far to the left, Bob will be favored instead."
   ]
  },
  {
   "cell_type": "markdown",
   "metadata": {
    "slideshow": {
     "slide_type": "subslide"
    }
   },
   "source": [
    "Given this setup, here is the question we ask of ourselves:\n",
    "\n",
    "> In a particular game, after eight rolls, Alice has five points and Bob has three points. What is the probability that Bob will go on to win the game?\n",
    "\n",
    "Intuitively, you probably realize that because Alice received five of the eight points, the marker placement likely favors her. And given this, it's more likely that the next roll will go her way as well. And she has three opportunities to get a favorable roll before Bob can win; she seems to have clinched it.  But, **quantitatively**, what is the probability that Bob will squeak-out a win?"
   ]
  },
  {
   "cell_type": "markdown",
   "metadata": {
    "slideshow": {
     "slide_type": "subslide"
    }
   },
   "source": [
    "### A Naive Frequentist Approach\n",
    "Someone following a classical frequentist approach might reason as follows:\n",
    "\n",
    "To determine the result, we need an intermediate estimate of where the marker sits. We'll quantify this marker placement as a probability $p$ that any given roll lands in Alice's favor.  Because five balls out of eight fell on Alice's side of the marker, we can quickly show that the maximum likelihood estimate of $p$ is given by:\n",
    "\n",
    "$$\n",
    "\\hat{p} = 5/8\n",
    "$$\n",
    "\n",
    "(This result follows in a straightforward manner from the [binomial likelihood](http://en.wikipedia.org/wiki/Binomial_distribution)). Assuming this maximum likelihood probability, we can compute the probability that Bob will win, which is given by:\n",
    "\n",
    "$$\n",
    "P(B) = (1 - \\hat{p})^3\n",
    "$$\n",
    "\n",
    "That is, he needs to win three rolls in a row. Thus, we find that the following estimate of the probability:"
   ]
  },
  {
   "cell_type": "code",
   "execution_count": 4,
   "metadata": {},
   "outputs": [
    {
     "name": "stdout",
     "output_type": "stream",
     "text": [
      "Naive Frequentist Probability of Bob Winning: 0.05\n"
     ]
    }
   ],
   "source": [
    "p_hat = 5. / 8.\n",
    "freq_prob = (1 - p_hat) ** 3\n",
    "print(\"Naive Frequentist Probability of Bob Winning: %.2f\" %freq_prob)"
   ]
  },
  {
   "cell_type": "markdown",
   "metadata": {
    "slideshow": {
     "slide_type": "subslide"
    }
   },
   "source": [
    "In other words, we'd give Bob the following odds of winning:"
   ]
  },
  {
   "cell_type": "code",
   "execution_count": 5,
   "metadata": {},
   "outputs": [
    {
     "name": "stdout",
     "output_type": "stream",
     "text": [
      "Odds against Bob winning: 17 to 1\n"
     ]
    }
   ],
   "source": [
    "print(\"Odds against Bob winning: %i to 1\" %((1. - freq_prob) / freq_prob))"
   ]
  },
  {
   "cell_type": "markdown",
   "metadata": {},
   "source": [
    "So we've estimated using frequentist ideas that Alice will win about 17 times for each time Bob wins. Let's try a Bayesian approach next."
   ]
  },
  {
   "cell_type": "markdown",
   "metadata": {
    "slideshow": {
     "slide_type": "subslide"
    }
   },
   "source": [
    "### Bayesian approach"
   ]
  },
  {
   "cell_type": "markdown",
   "metadata": {},
   "source": [
    "We can also approach this problem from a Bayesian standpoint. This is slightly more involved, and requires us to first define some notation.\n",
    "\n",
    "We'll consider the following random variables:\n",
    "\n",
    "- $B$ = Bob Wins\n",
    "- $D$ = observed data, i.e. $D = (n_A, n_B) = (5, 3)$\n",
    "- $p$ = unknown probability that a ball lands on Alice's side during the current game\n",
    "\n",
    "We want to compute $P(B~|~D)$; that is, the probability that Bob wins given our observation that Alice currently has five points to Bob's three."
   ]
  },
  {
   "cell_type": "markdown",
   "metadata": {
    "slideshow": {
     "slide_type": "subslide"
    }
   },
   "source": [
    "The general Bayesian method of treating nuisance parameters is *marginalization*, or integrating the joint probability over the entire range of the nuisance parameter. In this case, that means that we will first calculate the joint distribution\n",
    "\n",
    "$$\n",
    "P(B,p~|~D)\n",
    "$$\n",
    "\n",
    "and then marginalize over $p$ using the following identity:\n",
    "\n",
    "$$\n",
    "P(B~|~D) \\equiv \\int_{-\\infty}^\\infty P(B,p~|~D) {\\mathrm d}p\n",
    "$$\n",
    "\n",
    "This identity follows from the definition of conditional probability, and the law of total probability: that is, it is a fundamental consequence of probability axioms and will always be true. Even a frequentist would recognize this; they would simply disagree with our interpretation of $P(p)$ as being a measure of uncertainty of our own knowledge."
   ]
  },
  {
   "cell_type": "markdown",
   "metadata": {
    "collapsed": true,
    "slideshow": {
     "slide_type": "subslide"
    }
   },
   "source": [
    "#### Building our Bayesian Expression"
   ]
  },
  {
   "cell_type": "markdown",
   "metadata": {},
   "source": [
    "To compute this result, we will manipulate the above expression for $P(B~|~D)$ until we can express it in terms of other quantities that we can compute."
   ]
  },
  {
   "cell_type": "markdown",
   "metadata": {},
   "source": [
    "We'll start by applying the following definition of [conditional probability](http://en.wikipedia.org/wiki/Conditional_probability#Definition) to expand the term $P(B,p~|~D)$:\n",
    "\n",
    "$$\n",
    "P(B~|~D) = \\int P(B~|~p, D) P(p~|~D) dp\n",
    "$$"
   ]
  },
  {
   "cell_type": "markdown",
   "metadata": {},
   "source": [
    "Next we use [Bayes' rule](http://en.wikipedia.org/wiki/Bayes%27_theorem) to rewrite $P(p~|~D)$:\n",
    "\n",
    "$$\n",
    "P(B~|~D) = \\int P(B~|~p, D) \\frac{P(D~|~p)P(p)}{P(D)} dp\n",
    "$$"
   ]
  },
  {
   "cell_type": "markdown",
   "metadata": {
    "slideshow": {
     "slide_type": "subslide"
    }
   },
   "source": [
    "Finally, using the same probability identity we started with, we can expand $P(D)$ in the denominator to find:\n",
    "\n",
    "$$\n",
    "P(B~|~D) = \\frac{\\int P(B~|~p,D) P(D~|~p) P(p) dp}{\\int P(D~|~p)P(p) dp}\n",
    "$$"
   ]
  },
  {
   "cell_type": "markdown",
   "metadata": {},
   "source": [
    "Now the desired probability is expressed in terms of three quantities that we can compute. Let's look at each of these in turn:\n",
    "\n",
    "- $P(B~|~p,D)$: This term is exactly the frequentist likelihood we used above. In words: given a marker placement $p$ and the fact that Alice has won 5 times and Bob 3 times, what is the probability that Bob will go on to six wins?  Bob needs three wins in a row, i.e. $P(B~|~p,D) = (1 - p) ^ 3$.\n",
    "- $P(D~|~p)$: this is another easy-to-compute term. In words: given a probability $p$, what is the likelihood of exactly 5 positive outcomes out of eight trials? The answer comes from the well-known [Binomial distribution](http://en.wikipedia.org/wiki/Binomial_distribution): in this case $P(D~|~p) \\propto p^5 (1-p)^3$\n",
    "- $P(p)$: this is our prior on the probability $p$. By the problem definition, we can assume that $p$ is evenly drawn between 0 and 1.  That is, $P(p)$ is a uniform probability distribution in the range from 0 to 1."
   ]
  },
  {
   "cell_type": "markdown",
   "metadata": {
    "slideshow": {
     "slide_type": "subslide"
    }
   },
   "source": [
    "Putting this all together, canceling some terms, and simplifying a bit, we find\n",
    "$$\n",
    "P(B~|~D) = \\frac{\\int_0^1 (1 - p)^6 p^5 dp}{\\int_0^1 (1 - p)^3 p^5 dp}\n",
    "$$\n",
    "where both integrals are evaluated from 0 to 1."
   ]
  },
  {
   "cell_type": "markdown",
   "metadata": {},
   "source": [
    "These integrals might look a bit difficult, until we notice that they are special cases of the [Beta Function](http://en.wikipedia.org/wiki/Beta_function):\n",
    "$$\n",
    "\\beta(n, m) = \\int_0^1 (1 - p)^{n - 1} p^{m - 1}\n",
    "$$\n",
    "The Beta function can be further expressed in terms of gamma functions (i.e. factorials), but for simplicity we'll compute them directly using Scipy's beta function implementation:"
   ]
  },
  {
   "cell_type": "code",
   "execution_count": 6,
   "metadata": {},
   "outputs": [
    {
     "name": "stdout",
     "output_type": "stream",
     "text": [
      "P(B|D) = 0.09\n"
     ]
    }
   ],
   "source": [
    "from scipy.special import beta\n",
    "bayes_prob = beta(6 + 1, 5 + 1) / beta(3 + 1, 5 + 1)\n",
    "\n",
    "print(\"P(B|D) = %.2f\" %bayes_prob)"
   ]
  },
  {
   "cell_type": "markdown",
   "metadata": {
    "slideshow": {
     "slide_type": "subslide"
    }
   },
   "source": [
    "The associated odds are the following:"
   ]
  },
  {
   "cell_type": "code",
   "execution_count": 7,
   "metadata": {},
   "outputs": [
    {
     "name": "stdout",
     "output_type": "stream",
     "text": [
      "Bayesian odds against Bob winning: 10 to 1\n"
     ]
    }
   ],
   "source": [
    "print(\"Bayesian odds against Bob winning: %i to 1\" %((1. - bayes_prob) / bayes_prob))"
   ]
  },
  {
   "cell_type": "markdown",
   "metadata": {},
   "source": [
    "So we see that the Bayesian result gives us 10 to 1 odds, which is quite different than the 17 to 1 odds found using the frequentist approach. So which one is correct?"
   ]
  },
  {
   "cell_type": "markdown",
   "metadata": {
    "slideshow": {
     "slide_type": "subslide"
    }
   },
   "source": [
    "### Brute-force (Monte Carlo) approach"
   ]
  },
  {
   "cell_type": "markdown",
   "metadata": {},
   "source": [
    "For this type of well-defined and simple setup, it is actually relatively easy to use a Monte Carlo simulation to determine the correct answer. This is essentially a brute-force tabulation of possible outcomes: we generate a large number of random games, and simply count the fraction of relevant games that Bob goes on to win. The current problem is especially simple because so many of the random variables involved are uniformly distributed.  We can use the ``numpy`` package to do this as follows:"
   ]
  },
  {
   "cell_type": "code",
   "execution_count": 8,
   "metadata": {},
   "outputs": [
    {
     "name": "stdout",
     "output_type": "stream",
     "text": [
      "(Sanity check passed)\n"
     ]
    }
   ],
   "source": [
    "np.random.seed(0)\n",
    "\n",
    "# play 100000 games with randomly-drawn p, between 0 and 1\n",
    "p = np.random.random(100000)\n",
    "\n",
    "# each game needs at most 11 rolls for one player to reach 6 wins\n",
    "rolls = np.random.random((11, len(p)))\n",
    "\n",
    "# count the cumulative wins for Alice and Bob at each roll\n",
    "Alice_count = np.cumsum(rolls < p, 0)\n",
    "Bob_count = np.cumsum(rolls >= p, 0)\n",
    "\n",
    "# sanity check: total number of wins should equal number of rolls\n",
    "total_wins = Alice_count + Bob_count\n",
    "assert np.all(total_wins.T == np.arange(1, 12))\n",
    "print(\"(Sanity check passed)\")"
   ]
  },
  {
   "cell_type": "code",
   "execution_count": 9,
   "metadata": {
    "slideshow": {
     "slide_type": "subslide"
    }
   },
   "outputs": [
    {
     "name": "stdout",
     "output_type": "stream",
     "text": [
      "Number of suitable games: 11068\n",
      "Number of these games Bob won: 979\n",
      "Monte Carlo Probability of Bob winning: 0.09\n",
      "MC Odds against Bob winning: 10 to 1\n"
     ]
    }
   ],
   "source": [
    "# determine number of games which meet our criterion of (A wins, B wins)=(5, 3)\n",
    "# this means Bob's win count at eight rolls must equal 3\n",
    "good_games = Bob_count[7] == 3\n",
    "print(\"Number of suitable games: {0}\".format(good_games.sum()))\n",
    "\n",
    "# truncate our results to consider only these games\n",
    "Alice_count = Alice_count[:, good_games]\n",
    "Bob_count = Bob_count[:, good_games]\n",
    "\n",
    "# determine which of these games Bob won.\n",
    "# to win, he must reach six wins after 11 rolls.\n",
    "bob_won = np.sum(Bob_count[10] == 6)\n",
    "print(\"Number of these games Bob won: {0}\".format(bob_won.sum()))\n",
    "\n",
    "# compute the probability\n",
    "mc_prob = bob_won.sum() * 1. / good_games.sum()\n",
    "print(\"Monte Carlo Probability of Bob winning: {0:.2f}\".format(mc_prob))\n",
    "print(\"MC Odds against Bob winning: {0:.0f} to 1\".format((1. - mc_prob) / mc_prob))"
   ]
  },
  {
   "cell_type": "markdown",
   "metadata": {},
   "source": [
    "The Monte Carlo approach gives 10-to-1 odds on Bob, which agrees with the Bayesian approach. Apparently, our naive frequentist approach above was flawed."
   ]
  },
  {
   "cell_type": "markdown",
   "metadata": {
    "slideshow": {
     "slide_type": "subslide"
    }
   },
   "source": [
    "### Discussion"
   ]
  },
  {
   "cell_type": "markdown",
   "metadata": {
    "slideshow": {
     "slide_type": "-"
    }
   },
   "source": [
    "This example shows several different approaches to dealing with the presence of a nuisance parameter *p*. The Monte Carlo simulation gives us a close brute-force estimate of the true probability (assuming the validity of our assumptions), which the Bayesian approach matches. The naïve frequentist approach, by utilizing a single maximum likelihood estimate of the nuisance parameter $p$, arrives at the wrong result.\n",
    "\n",
    "We should emphasize that **this does not imply frequentism itself is incorrect**. The incorrect result above is more a matter of the approach being \"naive\" than it being \"frequentist\". There certainly exist frequentist methods for handling this sort of nuisance parameter – for example, it is theoretically possible to apply a transformation and conditioning of the data to isolate the dependence on $p$ – but it's hard to find any approach to this particular problem that does not somehow take advantage of Bayesian-like marginalization over $p$."
   ]
  },
  {
   "cell_type": "markdown",
   "metadata": {
    "slideshow": {
     "slide_type": "skip"
    }
   },
   "source": [
    "Another potential point of contention is that the question itself is posed in a way that is perhaps unfair to the classical, frequentist approach. A frequentist might instead hope to give the answer in terms of null tests or confidence intervals: that is, they might devise a procedure to construct limits which would provably bound the correct answer in $100\\times(1 - p)$ percent of similar trials, for some value of $p$ – say, 0.05 (note this is a different $p$ than the $p$ we've been talking about above). This might be classically accurate, but it doesn't quite answer the question at hand. I'll leave discussion of the meaning of such confidence intervals for my follow-up post on the subject.\n",
    "\n",
    "There is one clear common point of these two potential frequentist responses: both require some degree of effort and/or special expertise; perhaps a suitable frequentist approach would be immediately obvious to someone with a PhD in statistics, but is most definitely *not* obvious to a statistical lay-person simply trying to answer the question at hand. In this sense, I think Bayesianism provides a better approach for this sort of problem: by simple algebraic manipulation of a few well-known axioms of probability within a Bayesian framework, we can straightforwardly arrive at the correct answer without need for other special expertise."
   ]
  },
  {
   "cell_type": "markdown",
   "metadata": {
    "slideshow": {
     "slide_type": "slide"
    }
   },
   "source": [
    "## Exempel #2: Linjär kurvanpassning med dataavikelser (outliers)\n",
    "På engelska.\n",
    "Hämtat från bloggposten [Frequentism and Bayesianism II: When Results Differ](http://jakevdp.github.io/blog/2014/06/06/frequentism-and-bayesianism-2-when-results-differ/) "
   ]
  },
  {
   "cell_type": "markdown",
   "metadata": {
    "slideshow": {
     "slide_type": "fragment"
    }
   },
   "source": [
    "One situation where the concept of nuisance parameters can be helpful is accounting for outliers in data. Consider the following dataset, relating the observed variables $x$ and $y$, and the error of $y$ stored in $e$."
   ]
  },
  {
   "cell_type": "code",
   "execution_count": 44,
   "metadata": {
    "slideshow": {
     "slide_type": "subslide"
    }
   },
   "outputs": [],
   "source": [
    "x = np.array([ 0,  3,  9, 14, 15, 19, 20, 21, 30, 35,\n",
    "              40, 41, 42, 43, 54, 56, 67, 69, 72, 88])\n",
    "y = np.array([33, 68, 34, 34, 37, 71, 37, 44, 48, 49,\n",
    "              53, 49, 50, 48, 56, 60, 61, 63, 44, 71])\n",
    "e = np.array([ 3.6, 3.9, 2.6, 3.4, 3.8, 3.8, 2.2, 2.1, 2.3, 3.8,\n",
    "               2.2, 2.8, 3.9, 3.1, 3.4, 2.6, 3.4, 3.7, 2.0, 3.5])"
   ]
  },
  {
   "cell_type": "markdown",
   "metadata": {
    "slideshow": {
     "slide_type": "skip"
    }
   },
   "source": [
    "We'll visualize this data below:"
   ]
  },
  {
   "cell_type": "code",
   "execution_count": 45,
   "metadata": {},
   "outputs": [
    {
     "data": {
      "image/png": "[encoded data removed]",
      "text/plain": [
       "<matplotlib.figure.Figure at 0x136659b00>"
      ]
     },
     "metadata": {},
     "output_type": "display_data"
    }
   ],
   "source": [
    "plt.errorbar(x, y, e, fmt='.k', ecolor='gray');"
   ]
  },
  {
   "cell_type": "markdown",
   "metadata": {
    "slideshow": {
     "slide_type": "fragment"
    }
   },
   "source": [
    "Our task is to find a line of best-fit to the data. It's clear upon visual inspection that there are some outliers among these points, but let's start with a simple non-robust maximum likelihood approach. "
   ]
  },
  {
   "cell_type": "markdown",
   "metadata": {
    "slideshow": {
     "slide_type": "skip"
    }
   },
   "source": [
    "Like we saw in the previous post, the following simple maximum likelihood result can be considered to be either frequentist or Bayesian (with uniform priors): in this sort of simple problem, the approaches are essentially equivalent.\n",
    "\n",
    "We'll propose a simple linear model, which has a slope and an intercept encoded in a parameter vector $\\theta$. The model is defined as follows:\n",
    "$$\n",
    "\\hat{y}(x~|~\\theta) = \\theta_0 + \\theta_1 x\n",
    "$$\n",
    "Given this model, we can compute a Gaussian likelihood for each point:\n",
    "$$\n",
    "p(x_i,y_i,e_i~|~\\theta) \\propto \\exp\\left[-\\frac{1}{2e_i^2}\\left(y_i - \\hat{y}(x_i~|~\\theta)\\right)^2\\right]\n",
    "$$\n",
    "The total likelihood is the product of all the individual likelihoods. Computing this and taking the log, we have:\n",
    "$$\n",
    "\\log \\mathcal{L}(D~|~\\theta) = \\mathrm{const} - \\sum_i \\frac{1}{2e_i^2}\\left(y_i - \\hat{y}(x_i~|~\\theta)\\right)^2\n",
    "$$\n",
    "This should all look pretty familiar if you read through the previous post. This final expression is the log-likelihood of the data given the model, which can be maximized to find the $\\theta$ corresponding to the maximum-likelihood model. Equivalently, we can minimize the summation term, which is known as the *loss*:\n",
    "$$\n",
    "\\mathrm{loss} = \\sum_i \\frac{1}{2e_i^2}\\left(y_i - \\hat{y}(x_i~|~\\theta)\\right)^2\n",
    "$$\n",
    "This loss expression is known as a *squared loss*; here we've simply shown that the squared loss can be derived from the Gaussian log likelihood."
   ]
  },
  {
   "cell_type": "markdown",
   "metadata": {
    "slideshow": {
     "slide_type": "subslide"
    }
   },
   "source": [
    "### Standard Likelihood Approach"
   ]
  },
  {
   "cell_type": "markdown",
   "metadata": {
    "slideshow": {
     "slide_type": "skip"
    }
   },
   "source": [
    "Following the logic of the previous post, we can maximize the likelihood (or, equivalently, minimize the loss) to find $\\theta$ within a frequentist paradigm. For a flat prior in $\\theta$, the maximum of the Bayesian posterior will yield the same result. (note that there are good arguments based on the principle of maximum entropy that a flat prior is not the best choice here; we'll ignore that detail for now, as it's a very small effect for this problem).\n",
    "\n",
    "For simplicity, we'll use scipy's ``optimize`` package to minimize the loss (in the case of squared loss, this computation can be done more efficiently using matrix methods, but we'll use numerical minimization for simplicity here)"
   ]
  },
  {
   "cell_type": "code",
   "execution_count": 46,
   "metadata": {},
   "outputs": [
    {
     "data": {
      "image/png": "[encoded data removed]",
      "text/plain": [
       "<matplotlib.figure.Figure at 0x135df9d30>"
      ]
     },
     "metadata": {},
     "output_type": "display_data"
    }
   ],
   "source": [
    "from scipy import optimize\n",
    "\n",
    "def squared_loss(theta, x=x, y=y, e=e):\n",
    "    dy = y - theta[0] - theta[1] * x\n",
    "    return np.sum(0.5 * (dy / e) ** 2)\n",
    "\n",
    "theta1 = optimize.fmin(squared_loss, [0, 0], disp=False)\n",
    "\n",
    "xfit = np.linspace(0, 100)\n",
    "plt.errorbar(x, y, e, fmt='.k', ecolor='gray')\n",
    "plt.plot(xfit, theta1[0] + theta1[1] * xfit, '-k')\n",
    "plt.title('Maximum Likelihood fit: Squared Loss');"
   ]
  },
  {
   "cell_type": "markdown",
   "metadata": {
    "slideshow": {
     "slide_type": "skip"
    }
   },
   "source": [
    "It's clear on examination that the outliers are exerting a disproportionate influence on the fit. This is due to the nature of the squared loss function. If you have a single outlier that is, say 10 standard deviations away from the fit, its contribution to the loss will out-weigh that of 25 points which are 2 standard deviations away!\n",
    "\n",
    "Clearly the squared loss is overly sensitive to outliers, and this is causing issues with our fit. One way to address this within the frequentist paradigm is to simply adjust the loss function to be more robust."
   ]
  },
  {
   "cell_type": "markdown",
   "metadata": {
    "slideshow": {
     "slide_type": "skip"
    }
   },
   "source": [
    "### Frequentist Correction for Outliers: Huber Loss"
   ]
  },
  {
   "cell_type": "markdown",
   "metadata": {
    "slideshow": {
     "slide_type": "skip"
    }
   },
   "source": [
    "The variety of possible loss functions is quite literally infinite, but one relatively well-motivated option is the [Huber loss](http://en.wikipedia.org/wiki/Huber_loss_function). The Huber loss defines a critical value at which the loss curve transitions from quadratic to linear. Let's create a plot which compares the Huber loss to the standard squared loss for several critical values $c$:"
   ]
  },
  {
   "cell_type": "code",
   "execution_count": 47,
   "metadata": {
    "slideshow": {
     "slide_type": "skip"
    }
   },
   "outputs": [
    {
     "data": {
      "image/png": "[encoded data removed]",
      "text/plain": [
       "<matplotlib.figure.Figure at 0x11d757358>"
      ]
     },
     "metadata": {},
     "output_type": "display_data"
    }
   ],
   "source": [
    "t = np.linspace(-20, 20)\n",
    "\n",
    "def huber_loss(t, c=3):\n",
    "    return ((abs(t) < c) * 0.5 * t ** 2\n",
    "            + (abs(t) >= c) * -c * (0.5 * c - abs(t)))\n",
    "\n",
    "plt.plot(t, 0.5 * t ** 2, label=\"squared loss\", lw=2)\n",
    "for c in (10, 5, 3):\n",
    "    plt.plot(t, huber_loss(t, c), label=\"Huber loss, c={0}\".format(c), lw=2)\n",
    "plt.ylabel('loss')\n",
    "plt.xlabel('standard deviations')\n",
    "plt.legend(loc='best');"
   ]
  },
  {
   "cell_type": "markdown",
   "metadata": {
    "slideshow": {
     "slide_type": "skip"
    }
   },
   "source": [
    "The Huber loss is equivalent to the squared loss for points which are well-fit by the model, but reduces the loss contribution of outliers. For example, a point 20 standard deviations from the fit has a squared loss of 200, but a c=3 Huber loss of just over 55. Let's see the result of the best-fit line using the Huber loss rather than the squared loss. We'll plot the squared loss result in light gray for comparison:"
   ]
  },
  {
   "cell_type": "code",
   "execution_count": 48,
   "metadata": {
    "slideshow": {
     "slide_type": "skip"
    }
   },
   "outputs": [
    {
     "data": {
      "image/png": "[encoded data removed]",
      "text/plain": [
       "<matplotlib.figure.Figure at 0x135bfa400>"
      ]
     },
     "metadata": {},
     "output_type": "display_data"
    }
   ],
   "source": [
    "def total_huber_loss(theta, x=x, y=y, e=e, c=3):\n",
    "    return huber_loss((y - theta[0] - theta[1] * x) / e, c).sum()\n",
    "\n",
    "theta2 = optimize.fmin(total_huber_loss, [0, 0], disp=False)\n",
    "\n",
    "plt.errorbar(x, y, e, fmt='.k', ecolor='gray')\n",
    "plt.plot(xfit, theta1[0] + theta1[1] * xfit, color='lightgray')\n",
    "plt.plot(xfit, theta2[0] + theta2[1] * xfit, color='black')\n",
    "plt.title('Maximum Likelihood fit: Huber loss');"
   ]
  },
  {
   "cell_type": "markdown",
   "metadata": {
    "slideshow": {
     "slide_type": "skip"
    }
   },
   "source": [
    "By eye, this seems to have worked as desired: the fit is much closer to our intuition!\n",
    "\n",
    "However a Bayesian might point out that the motivation for this new loss function is a bit suspect: as we showed, the squared-loss can be straightforwardly derived from a Gaussian likelihood. The Huber loss seems a bit *ad hoc*: where does it come from? How should we decide what value of $c$ to use? Is there any good motivation for using a linear loss on outliers, or should we simply remove them instead? How might this choice affect our resulting model?"
   ]
  },
  {
   "cell_type": "markdown",
   "metadata": {
    "slideshow": {
     "slide_type": "subslide"
    }
   },
   "source": [
    "### A Bayesian Approach to Outliers: Nuisance Parameters"
   ]
  },
  {
   "cell_type": "markdown",
   "metadata": {},
   "source": [
    "The Bayesian approach to accounting for outliers generally involves *modifying the model* so that the outliers are accounted for. For this data, it is abundantly clear that a simple straight line is not a good fit to our data. So let's propose a more complicated model that has the flexibility to account for outliers. One option is to choose a mixture between a signal and a background:\n",
    "\n",
    "$$\n",
    "\\begin{array}{ll}\n",
    "p(\\{x_i\\}, \\{y_i\\},\\{e_i\\}~|~\\theta,\\{g_i\\},\\sigma,\\sigma_b) = & \\frac{g_i}{\\sqrt{2\\pi e_i^2}}\\exp\\left[\\frac{-\\left(\\hat{y}(x_i~|~\\theta) - y_i\\right)^2}{2e_i^2}\\right] \\\\\n",
    "&+ \\frac{1 - g_i}{\\sqrt{2\\pi \\sigma_B^2}}\\exp\\left[\\frac{-\\left(\\hat{y}(x_i~|~\\theta) - y_i\\right)^2}{2\\sigma_B^2}\\right]\n",
    "\\end{array}\n",
    "$$\n",
    "\n",
    "What we've done is expanded our model with some nuisance parameters: $\\{g_i\\}$ is a series of weights which range from 0 to 1 and encode for each point $i$ the degree to which it fits the model. "
   ]
  },
  {
   "cell_type": "markdown",
   "metadata": {
    "slideshow": {
     "slide_type": "skip"
    }
   },
   "source": [
    "$g_i=0$ indicates an outlier, in which case a Gaussian of width $\\sigma_B$ is used in the computation of the likelihood. This $\\sigma_B$ can also be a nuisance parameter, or its value can be set at a sufficiently high number, say 50."
   ]
  },
  {
   "cell_type": "markdown",
   "metadata": {
    "slideshow": {
     "slide_type": "subslide"
    }
   },
   "source": [
    "Our model is much more complicated now: it has 22 parameters rather than 2, but the majority of these can be considered nuisance parameters, which can be marginalized-out in the end, just as we marginalized (integrated) over $p$ in the Billiard example.  Let's construct a function which implements this likelihood. We'll use the [emcee](http://dan.iel.fm/emcee/current/) package to explore the parameter space."
   ]
  },
  {
   "cell_type": "markdown",
   "metadata": {
    "slideshow": {
     "slide_type": "subslide"
    }
   },
   "source": [
    "To actually compute this, we'll start by defining functions describing our prior, our likelihood function, and our posterior:"
   ]
  },
  {
   "cell_type": "code",
   "execution_count": 49,
   "metadata": {
    "slideshow": {
     "slide_type": "-"
    }
   },
   "outputs": [],
   "source": [
    "# theta will be an array of length 2 + N, where N is the number of points\n",
    "# theta[0] is the intercept, theta[1] is the slope,\n",
    "# and theta[2 + i] is the weight g_i\n",
    "\n",
    "def log_prior(theta):\n",
    "    #g_i needs to be between 0 and 1\n",
    "    if (all(theta[2:] > 0) and all(theta[2:] < 1)):\n",
    "        return 0\n",
    "    else:\n",
    "        return -np.inf  # recall log(0) = -inf\n",
    "\n",
    "def log_likelihood(theta, x, y, e, sigma_B):\n",
    "    dy = y - theta[0] - theta[1] * x\n",
    "    g = np.clip(theta[2:], 0, 1)  # g<0 or g>1 leads to NaNs in logarithm\n",
    "    logL1 = np.log(g) - 0.5 * np.log(2 * np.pi * e ** 2) - 0.5 * (dy / e) ** 2\n",
    "    logL2 = np.log(1 - g) - 0.5 * np.log(2 * np.pi * sigma_B ** 2) - 0.5 * (dy / sigma_B) ** 2\n",
    "    return np.sum(np.logaddexp(logL1, logL2))\n",
    "\n",
    "def log_posterior(theta, x, y, e, sigma_B):\n",
    "    return log_prior(theta) + log_likelihood(theta, x, y, e, sigma_B)"
   ]
  },
  {
   "cell_type": "markdown",
   "metadata": {
    "slideshow": {
     "slide_type": "subslide"
    }
   },
   "source": [
    "Now we'll run the MCMC samples to explore the parameter space:"
   ]
  },
  {
   "cell_type": "code",
   "execution_count": 50,
   "metadata": {},
   "outputs": [
    {
     "name": "stderr",
     "output_type": "stream",
     "text": [
      " /Applications/anaconda3/envs/SNF-env/lib/python3.5/site-packages/ipykernel_launcher.py:16: RuntimeWarning:divide by zero encountered in log\n",
      " /Applications/anaconda3/envs/SNF-env/lib/python3.5/site-packages/ipykernel_launcher.py:15: RuntimeWarning:divide by zero encountered in log\n"
     ]
    }
   ],
   "source": [
    "# Note that this step will take a few minutes to run!\n",
    "\n",
    "ndim = 2 + len(x)  # number of parameters in the model\n",
    "nwalkers = 50  # number of MCMC walkers\n",
    "nburn = 10000  # \"burn-in\" period to let chains stabilize\n",
    "nsteps = 15000  # number of MCMC steps to take\n",
    "\n",
    "# set theta near the maximum likelihood, with \n",
    "np.random.seed(0)\n",
    "starting_guesses = np.zeros((nwalkers, ndim))\n",
    "starting_guesses[:, :2] = np.random.normal(theta1, 1, (nwalkers, 2))\n",
    "starting_guesses[:, 2:] = np.random.normal(0.5, 0.1, (nwalkers, ndim - 2))\n",
    "\n",
    "import emcee\n",
    "sampler = emcee.EnsembleSampler(nwalkers, ndim, log_posterior, args=[x, y, e, 50])\n",
    "sampler.run_mcmc(starting_guesses, nsteps)\n",
    "\n",
    "sample = sampler.chain  # shape = (nwalkers, nsteps, ndim)\n",
    "sample = sampler.chain[:, nburn:, :].reshape(-1, ndim)"
   ]
  },
  {
   "cell_type": "markdown",
   "metadata": {
    "slideshow": {
     "slide_type": "subslide"
    }
   },
   "source": [
    "Once we have these samples, we can exploit a very nice property of the Markov chains. Because their distribution models the posterior, we can integrate out (i.e. marginalize) over nuisance parameters simply by ignoring them!\n",
    "\n",
    "We can look at the (marginalized) distribution of slopes and intercepts by examining the first two columns of the sample:"
   ]
  },
  {
   "cell_type": "code",
   "execution_count": 51,
   "metadata": {},
   "outputs": [
    {
     "data": {
      "image/png": "[encoded data removed]",
      "text/plain": [
       "<matplotlib.figure.Figure at 0x120c66f98>"
      ]
     },
     "metadata": {},
     "output_type": "display_data"
    }
   ],
   "source": [
    "plt.plot(sample[:, 0], sample[:, 1], ',k', alpha=0.1)\n",
    "plt.xlabel('intercept')\n",
    "plt.ylabel('slope');"
   ]
  },
  {
   "cell_type": "markdown",
   "metadata": {
    "slideshow": {
     "slide_type": "skip"
    }
   },
   "source": [
    "We see a distribution of points near a slope of $\\sim 0.4-0.5$, and an intercept of $\\sim 29-34$. We'll plot this model over the data below, but first let's see what other information we can extract from this trace.\n",
    "\n",
    "One nice feature of analyzing MCMC samples is that the choice of nuisance parameters is completely symmetric: just as we can treat the $\\{g_i\\}$ as nuisance parameters, we can also treat the slope and intercept as nuisance parameters! Let's do this, and check the posterior for $g_1$ and $g_2$, the outlier flag for the first two points:"
   ]
  },
  {
   "cell_type": "code",
   "execution_count": 52,
   "metadata": {
    "slideshow": {
     "slide_type": "skip"
    }
   },
   "outputs": [
    {
     "name": "stdout",
     "output_type": "stream",
     "text": [
      "g1 mean: 0.59\n",
      "g2 mean: 0.36\n"
     ]
    },
    {
     "data": {
      "image/png": "[encoded data removed]",
      "text/plain": [
       "<matplotlib.figure.Figure at 0x136638ba8>"
      ]
     },
     "metadata": {},
     "output_type": "display_data"
    }
   ],
   "source": [
    "plt.plot(sample[:, 2], sample[:, 3], ',k', alpha=0.1)\n",
    "plt.xlabel('$g_1$')\n",
    "plt.ylabel('$g_2$')\n",
    "\n",
    "print(\"g1 mean: {0:.2f}\".format(sample[:, 2].mean()))\n",
    "print(\"g2 mean: {0:.2f}\".format(sample[:, 3].mean()))"
   ]
  },
  {
   "cell_type": "markdown",
   "metadata": {
    "slideshow": {
     "slide_type": "skip"
    }
   },
   "source": [
    "There is not an extremely strong constraint on either of these, but we do see that $(g_1, g_2) = (1, 0)$ is slightly favored: the means of $g_1$ and $g_2$ are greater than and less than 0.5, respecively. If we choose a cutoff at $g=0.5$, our algorithm has identified $g_2$ as an outlier.\n",
    "\n",
    "Let's make use of all this information, and plot the marginalized best model over the original data. As a bonus, we'll draw red circles to indicate which points the model detects as outliers:"
   ]
  },
  {
   "cell_type": "code",
   "execution_count": 53,
   "metadata": {
    "slideshow": {
     "slide_type": "skip"
    }
   },
   "outputs": [],
   "source": [
    "theta3 = np.mean(sample[:, :2], 0)\n",
    "g = np.mean(sample[:, 2:], 0)\n",
    "outliers = (g < 0.5)"
   ]
  },
  {
   "cell_type": "code",
   "execution_count": 54,
   "metadata": {
    "slideshow": {
     "slide_type": "subslide"
    }
   },
   "outputs": [
    {
     "data": {
      "image/png": "[encoded data removed]",
      "text/plain": [
       "<matplotlib.figure.Figure at 0x133749ef0>"
      ]
     },
     "metadata": {},
     "output_type": "display_data"
    }
   ],
   "source": [
    "plt.errorbar(x, y, e, fmt='.k', ecolor='gray')\n",
    "plt.plot(xfit, theta1[0] + theta1[1] * xfit, color='lightgray')\n",
    "plt.plot(xfit, theta2[0] + theta2[1] * xfit, color='lightgray')\n",
    "plt.plot(xfit, theta3[0] + theta3[1] * xfit, color='black')\n",
    "plt.scatter(x[outliers], y[outliers],marker='o',s=40,edgecolors='r',linewidths=2,c='k')\n",
    "plt.title('Maximum Likelihood fit: Bayesian Marginalization');"
   ]
  },
  {
   "cell_type": "markdown",
   "metadata": {},
   "source": [
    "The result, shown by the dark line, matches our intuition! Furthermore, the points automatically identified as outliers are the ones we would identify by hand.  For comparison, the gray lines show the two previous approaches: the simple maximum likelihood and the frequentist approach based on Huber loss."
   ]
  },
  {
   "cell_type": "markdown",
   "metadata": {
    "slideshow": {
     "slide_type": "skip"
    }
   },
   "source": [
    "### Discussion"
   ]
  },
  {
   "cell_type": "markdown",
   "metadata": {
    "slideshow": {
     "slide_type": "skip"
    }
   },
   "source": [
    "Here we've dived into linear regression in the presence of outliers. A typical Gaussian maximum likelihood approach fails to account for the outliers, but we were able to correct this in the frequentist paradigm by modifying the loss function, and in the Bayesian paradigm by adopting a mixture model with a large number of nuisance parameters.\n",
    "\n",
    "Both approaches have their advantages and disadvantages: the frequentist approach here is relatively straightforward and computationally efficient, but is based on the use of a loss function which is not particularly well-motivated. The Bayesian approach is well-founded and produces very nice results, but requires a rather subjective specification of a prior. It is also much more intensive in both coding time and computational time."
   ]
  },
  {
   "cell_type": "markdown",
   "metadata": {
    "slideshow": {
     "slide_type": "skip"
    }
   },
   "source": [
    "For Bayes' billiard ball example, we showed that a naïve frequentist approach leads to the wrong answer, while a naïve Bayesian approach leads to the correct answer. This doesn't mean frequentism is wrong, but it does mean we must be very careful when applying it.\n",
    "\n",
    "For the linear regression example, we showed one possible approach from both frequentism and Bayesianism for accounting for outliers in our data. Using a robust frequentist cost function is relatively fast and painless, but is dubiously motivated and leads to results which are difficult to interpret. Using a Bayesian mixture model takes more effort and requires more intensive computation, but leads to a very nice result in which multiple questions can be answered at once: in this case, marginalizing one way to find the best-fit model, and marginalizing another way to identify outliers in the data."
   ]
  },
  {
   "cell_type": "markdown",
   "metadata": {
    "slideshow": {
     "slide_type": "slide"
    }
   },
   "source": [
    "# Maskininlärning"
   ]
  },
  {
   "cell_type": "markdown",
   "metadata": {
    "slideshow": {
     "slide_type": "fragment"
    }
   },
   "source": [
    "* Utrusta datorer med kapaciteten att \"lära sig\" från \"data\".\n",
    "    * Data från t.ex. sensorer, internet, ...\n",
    "    * ... eller från experiment, teoretiska simuleringar\n",
    "    * Förväntning att datorn skall göra \"rimliga\" förutsägelser."
   ]
  },
  {
   "cell_type": "markdown",
   "metadata": {
    "slideshow": {
     "slide_type": "fragment"
    }
   },
   "source": [
    "* Kategoriseras som\n",
    "    * Supervised learning (klassifisering, regression)\n",
    "    * Unsupervised learning (dimensionalitetsreduktion, clustering)\n",
    "    * Reinforcement learning (inlärning med försenad återkoppling)"
   ]
  },
  {
   "cell_type": "markdown",
   "metadata": {
    "slideshow": {
     "slide_type": "subslide"
    }
   },
   "source": [
    "![](figures/machine_learning.png)\n",
    "XKCD web comic: [Machine learning](https://xkcd.com/1838/)"
   ]
  },
  {
   "cell_type": "markdown",
   "metadata": {
    "slideshow": {
     "slide_type": "slide"
    }
   },
   "source": [
    "## Maskininlärning del 1:\n",
    "### Neurala nätverk, deep learning och TensorFlow\n",
    "\n",
    "![](figures/400px-neural_network.png)"
   ]
  },
  {
   "cell_type": "markdown",
   "metadata": {
    "slideshow": {
     "slide_type": "subslide"
    }
   },
   "source": [
    "## Tillämpningar inom allt möjligt\n",
    "* Textigenkänning\n",
    "* Bildigenkänning\n",
    "* Taligenkänning\n",
    "* Översättning\n",
    "* Medicinsk diagnos\n",
    "* Självkörande bilar\n",
    "* mm, mm,mm\n",
    "\n",
    "Mycket av detta har blivit möjligt genom tillgång till \n",
    "* stora datamängder (att träna på) \n",
    "* nya algoritmer (t.ex. deep learning) \n",
    "* samt ny teknologi (t.ex. gpu) som möjliggör att utföra maskininlärningen i praktiken."
   ]
  },
  {
   "cell_type": "markdown",
   "metadata": {
    "slideshow": {
     "slide_type": "subslide"
    }
   },
   "source": [
    "## Exempel: Bildigenkänning med områdesbeskrivningar\n",
    "![](figures/deep_learning_image_descriptions.png)\n",
    "från [arXiv:1412.2306](https://arxiv.org/abs/1412.2306)"
   ]
  },
  {
   "cell_type": "markdown",
   "metadata": {
    "slideshow": {
     "slide_type": "subslide"
    }
   },
   "source": [
    "## Exempel: Addition av två tal som strängar"
   ]
  },
  {
   "cell_type": "markdown",
   "metadata": {},
   "source": [
    "För den vill vill testa att bygga ett neuralt nätverk rekommenderas [TensorFlow](https://www.tensorflow.org/) som är ett öppet programbibliotek för maskinintelligens genom neurala nätverk. Personligen tyckte jag att TensorFlow blir enklare att använda genom ett python API som heter [Keras](https://keras.io/).\n",
    "\n",
    "Ett exempel från deras [exempelbibliotek](https://github.com/keras-team/keras/tree/master/examples) finns i en separat [ipython notebook](Keras_Addition_rnn.ipynb) som ni gärna får testa.\n",
    "\n",
    "Uppgiften är att lära ett neuralt nätverk med tre lager och 200.000 parametrar att addera två tresiffriga tal. Både själva additionen och svaret skall representeras som strängar."
   ]
  },
  {
   "cell_type": "code",
   "execution_count": 21,
   "metadata": {
    "slideshow": {
     "slide_type": "subslide"
    }
   },
   "outputs": [],
   "source": [
    "# Extracted output from Keras_Addition_rnn.ipynb\n",
    "\n",
    "# model.system()"
   ]
  },
  {
   "cell_type": "markdown",
   "metadata": {
    "slideshow": {
     "slide_type": "-"
    }
   },
   "source": [
    "```\n",
    "_________________________________________________________________\n",
    "Layer (type)                 Output Shape              Param #   \n",
    "=================================================================\n",
    "lstm_1 (LSTM)                (None, 128)               72192     \n",
    "_________________________________________________________________\n",
    "repeat_vector_1 (RepeatVecto (None, 4, 128)            0         \n",
    "_________________________________________________________________\n",
    "lstm_2 (LSTM)                (None, 4, 128)            131584    \n",
    "_________________________________________________________________\n",
    "time_distributed_1 (TimeDist (None, 4, 12)             1548      \n",
    "_________________________________________________________________\n",
    "activation_1 (Activation)    (None, 4, 12)             0         \n",
    "=================================================================\n",
    "Total params: 205,324\n",
    "Trainable params: 205,324\n",
    "Non-trainable params: 0\n",
    "_________________________________________________________________\n",
    "```"
   ]
  },
  {
   "cell_type": "markdown",
   "metadata": {
    "slideshow": {
     "slide_type": "subslide"
    }
   },
   "source": [
    "```\n",
    "--------------------------------------------------\n",
    "Iteration 1\n",
    "Train on 45000 samples, validate on 5000 samples\n",
    "Epoch 1/1\n",
    "45000/45000 [==============================] - 26s 572us/step - loss: 1.8809 - acc: 0.3228 - val_loss: 1.7916 - val_acc: 0.3457\n",
    "Q 3+368   T 371  ☒ 13  \n",
    "Q 94+32   T 126  ☒ 101 \n",
    "Q 8+466   T 474  ☒ 102 \n",
    "Q 989+717 T 1706 ☒ 1100\n",
    "Q 4+125   T 129  ☒ 23  \n",
    "Q 996+41  T 1037 ☒ 100 \n",
    "Q 10+245  T 255  ☒ 132 \n",
    "Q 1+759   T 760  ☒ 122 \n",
    "Q 714+489 T 1203 ☒ 1107\n",
    "Q 517+649 T 1166 ☒ 1167\n",
    "\n",
    "--------------------------------------------------\n",
    "```"
   ]
  },
  {
   "cell_type": "markdown",
   "metadata": {
    "slideshow": {
     "slide_type": "subslide"
    }
   },
   "source": [
    "[...]\n",
    "```\n",
    "--------------------------------------------------\n",
    "Iteration 15\n",
    "Train on 45000 samples, validate on 5000 samples\n",
    "Epoch 1/1\n",
    "45000/45000 [==============================] - 26s 572us/step - loss: 0.5331 - acc: 0.8062 - val_loss: 0.4613 - val_acc: 0.8338\n",
    "Q 491+493 T 984  ☒ 975 \n",
    "Q 459+48  T 507  ☒ 506 \n",
    "Q 910+974 T 1884 ☑ 1884\n",
    "Q 582+346 T 928  ☒ 927 \n",
    "Q 313+31  T 344  ☒ 334 \n",
    "Q 717+7   T 724  ☑ 724 \n",
    "Q 87+509  T 596  ☑ 596 \n",
    "Q 545+7   T 552  ☑ 552 \n",
    "Q 313+9   T 322  ☑ 322 \n",
    "Q 602+784 T 1386 ☒ 1387\n",
    "\n",
    "--------------------------------------------------\n",
    "```"
   ]
  },
  {
   "cell_type": "markdown",
   "metadata": {
    "slideshow": {
     "slide_type": "subslide"
    }
   },
   "source": [
    "[...]\n",
    "```\n",
    "--------------------------------------------------\n",
    "Iteration 200\n",
    "Train on 45000 samples, validate on 5000 samples\n",
    "Epoch 1/1\n",
    "45000/45000 [==============================] - 16s 348us/step - loss: 0.0012 - acc: 1.0000 - val_loss: 0.0027 - val_acc: 0.9996\n",
    "Q 111+289 T 400  ☑ 400 \n",
    "Q 4+663   T 667  ☑ 667 \n",
    "Q 331+54  T 385  ☑ 385 \n",
    "Q 10+201  T 211  ☑ 211 \n",
    "Q 777+324 T 1101 ☑ 1101\n",
    "Q 9+693   T 702  ☑ 702 \n",
    "Q 470+75  T 545  ☑ 545 \n",
    "Q 999+571 T 1570 ☑ 1570\n",
    "Q 72+883  T 955  ☑ 955 \n",
    "Q 13+983  T 996  ☑ 996 \n",
    "\n",
    "--------------------------------------------------\n",
    "```"
   ]
  },
  {
   "cell_type": "markdown",
   "metadata": {
    "slideshow": {
     "slide_type": "subslide"
    }
   },
   "source": [
    "Fysiker är ofta väldigt snabba på att ta till sig nya möjligheter, och att utveckla dem vidare. Ofta erbjuder forskning inom fundamental fysik väldigt stora utmaningar."
   ]
  },
  {
   "cell_type": "markdown",
   "metadata": {
    "slideshow": {
     "slide_type": "fragment"
    }
   },
   "source": [
    "![](figures/QMBwithANN_science.png)"
   ]
  },
  {
   "cell_type": "markdown",
   "metadata": {
    "slideshow": {
     "slide_type": "subslide"
    }
   },
   "source": [
    "### Neutron Reconstruction using Neural Networks\n",
    "#### Master’s thesis in Subatomic Physics<br/>Marcus Polleryd, 2017 [pdf](http://publications.lib.chalmers.se/records/fulltext/253132/253132.pdf)\n",
    "![](figures/500px-NeuLANDevents.png)"
   ]
  },
  {
   "cell_type": "markdown",
   "metadata": {
    "slideshow": {
     "slide_type": "skip"
    }
   },
   "source": [
    "Simulated output from the scintillator-based detector NeuLAND converted into 3-D images showing the deposited energy of particles traversing the detector, for both 1 and 5 incoming neutrons travelling in the positive z-direction. The axes, given in pixel number, represent the full geometry of NeuLAND."
   ]
  },
  {
   "cell_type": "markdown",
   "metadata": {
    "slideshow": {
     "slide_type": "slide"
    }
   },
   "source": [
    "## Maskininlärning del 2:\n",
    "###  Gaussprocesser\n",
    "\n",
    "Antag att det finns en okänd funktion\n",
    "$$\n",
    "f: x \\mapsto y\n",
    "$$\n",
    "\n",
    "Betrakta sedan följande två frågeställningar: Givet $N$ datapunkter: input=$(x_0, x_1, \\ldots, x_N)$, output=$(y_0, y_1, \\ldots, y_N)$, vad blir din förutsägelse för:\n",
    "* $y=f(x)$, dvs hur tror vi att den obekanta funktionen ser ut?\n",
    "* min($(f(x)$) i något intervall, dvs vad är funktionens minimum (och var inträffar det?)\n",
    "\n",
    "Bägge dessa frågeställningar dyker ofta upp i väldigt olika sammanhang och tillämpningar."
   ]
  },
  {
   "cell_type": "markdown",
   "metadata": {
    "slideshow": {
     "slide_type": "subslide"
    }
   },
   "source": [
    "* En (flerdimensionell) *Gaussdistribution* beskrivs av en vektor med medelvärden $m$ samt en kovariansmatris $K$\n",
    "$$\n",
    "\\vec{f} = (f_1, \\ldots, f_n) \\sim \\mathcal{N}(m,K)\n",
    "$$\n",
    "* En *Gaussprocess* kan ses som en generalisering av ovanstående till oändligt många variabler. Gaussprocessen beskrivs av en funktion med medelvärden $m(x)$ samt en kovariansfunktion $K(x,x')$\n",
    "$$\n",
    "f(x) \\sim \\mathcal{GP}(m(x),K(x,x')),\n",
    "$$"
   ]
  },
  {
   "cell_type": "markdown",
   "metadata": {
    "slideshow": {
     "slide_type": "skip"
    }
   },
   "source": [
    "En Gaussprocess kan betraktas som en apriorifördelning till en okänd funktion $f(x)$ där vi inte behöver begränsa oss till en given uppsättning med basfunktioner. Vi skriver att\n",
    "$$\n",
    "f \\sim \\mathcal{GP}(m,K),\n",
    "$$\n",
    "där $m$ och $K$ representerar medel (mean) och kovarians. Innebörden blir att $f$ blir en stokastisk process vars värden för $n$ punkter $x_1, \\ldots, x_n$ dras från en $n$-dimensionell normalfördelning\n",
    "$$\n",
    "f(x_1), \\ldots, f(x_n) \\sim \\mathcal{N}\\left( \\left( m(x_1,\\ldots,m(x_n) \\right), K(x_1,\\ldots,x_n) \\right).\n",
    "$$"
   ]
  },
  {
   "cell_type": "code",
   "execution_count": 22,
   "metadata": {
    "slideshow": {
     "slide_type": "fragment"
    }
   },
   "outputs": [],
   "source": [
    "#------------------------------------------------------------\n",
    "# define a squared exponential covariance function\n",
    "# also known as the RBF kernel\n",
    "def squared_exponential(x1, x2, h):\n",
    "    return np.exp(-0.5 * (x1 - x2) ** 2 / h ** 2)\n",
    "\n",
    "#------------------------------------------------------------\n",
    "# draw samples from the unconstrained covariance\n",
    "np.random.seed(1)\n",
    "xtest = np.linspace(-3, 3, 100)\n",
    "h = 1.0\n",
    "\n",
    "mu = np.zeros(len(xtest))\n",
    "C = squared_exponential(xtest, xtest[:, None], h)\n",
    "draws = np.random.multivariate_normal(mu, C, 3)"
   ]
  },
  {
   "cell_type": "code",
   "execution_count": 23,
   "metadata": {
    "slideshow": {
     "slide_type": "subslide"
    }
   },
   "outputs": [
    {
     "data": {
      "image/png": "[encoded data removed]",
      "text/plain": [
       "<matplotlib.figure.Figure at 0x134bbda20>"
      ]
     },
     "metadata": {},
     "output_type": "display_data"
    }
   ],
   "source": [
    "#------------------------------------------------------------\n",
    "# Plot the diagrams\n",
    "fig = plt.figure(figsize=(5, 5))\n",
    "\n",
    "\n",
    "# first: plot a selection of unconstrained functions\n",
    "ax = fig.add_subplot(111)\n",
    "ax.plot(xtest, draws.T, '-k')\n",
    "ax.set_ylabel('$f(x)$');\n",
    "ax.set_xlabel('$x$');"
   ]
  },
  {
   "cell_type": "markdown",
   "metadata": {
    "slideshow": {
     "slide_type": "subslide"
    }
   },
   "source": [
    "## Exempel #1: <br/>1-dim regression\n",
    "\n",
    "Vi kommer att demonstrera grundläggande principer för Gaussprocesser samt visa ett exempel på konstruktion av en endimensionell modell för regression.\n",
    "\n",
    "Det blir kortfattat. Ett bra litteraturtips för mer detaljer är boken [Gaussian Processes for Machine Learning](http://gaussianprocess.org/gpml/chapters/) av Carl Edward Rasmussen och Christopher K. I. Williams."
   ]
  },
  {
   "cell_type": "markdown",
   "metadata": {
    "slideshow": {
     "slide_type": "subslide"
    }
   },
   "source": [
    "För detta exempel generar vi först en uppsättning data $x,y$\n",
    "* $x$ representerar 'input' och $y$ representerar 'output'.\n",
    "* Eller $y = f(x)$ där funktionen $f(x)$ representerar en process som är okänd för oss. \n",
    "    * Det kan vara experimentell data som en funktion av en experimentellt modifierbar variabel;\n",
    "    * eller resultat från en teoretisk simulering som en funktion av en modellparameter.\n",
    "Vi kommer att låta observationerna $y$ inkludera slumpmässigt brus ('noise')."
   ]
  },
  {
   "cell_type": "code",
   "execution_count": 24,
   "metadata": {
    "slideshow": {
     "slide_type": "skip"
    }
   },
   "outputs": [],
   "source": [
    "x = np.random.uniform(-3.,3.,(20,1))\n",
    "y = np.sin(x) + np.random.randn(20,1)*0.05"
   ]
  },
  {
   "cell_type": "code",
   "execution_count": 25,
   "metadata": {
    "slideshow": {
     "slide_type": "subslide"
    }
   },
   "outputs": [
    {
     "data": {
      "image/png": "[encoded data removed]",
      "text/plain": [
       "<matplotlib.figure.Figure at 0x135d044e0>"
      ]
     },
     "metadata": {},
     "output_type": "display_data"
    }
   ],
   "source": [
    "#------------------------------------------------------------\n",
    "# Plot the data sequentially as it is drawn. When can you guess the generating \"function\"\n",
    "fig, axarr = plt.subplots(3,2, sharex=True,sharey=True)\n",
    "\n",
    "for i,ni in enumerate([1,2,3,4,8,16]):\n",
    "    # Note the use of floor division '//' and modulo '%' to get the row and column\n",
    "    ax = axarr[i//2,i%2]\n",
    "    ax.plot(x[:ni], y[:ni], 'ok')\n",
    "    ax.text(0.1,0.8,'N=%i' %ni,transform=ax.transAxes)\n",
    "    if i%2==0: ax.set_ylabel('$f(x)$')\n",
    "    if i//2==2: ax.set_xlabel('$x$')"
   ]
  },
  {
   "cell_type": "markdown",
   "metadata": {
    "slideshow": {
     "slide_type": "subslide"
    }
   },
   "source": [
    "### Gaussprocesser"
   ]
  },
  {
   "cell_type": "markdown",
   "metadata": {
    "slideshow": {
     "slide_type": "-"
    }
   },
   "source": [
    "Först importerar vi modulen GPy. Det finns andra alternativ, t.e.x scikit-learn."
   ]
  },
  {
   "cell_type": "code",
   "execution_count": 26,
   "metadata": {},
   "outputs": [],
   "source": [
    "import GPy"
   ]
  },
  {
   "cell_type": "markdown",
   "metadata": {
    "slideshow": {
     "slide_type": "fragment"
    }
   },
   "source": [
    "För att konstruera en GP modell behöver vi data och en kernel. "
   ]
  },
  {
   "cell_type": "markdown",
   "metadata": {
    "slideshow": {
     "slide_type": "skip"
    }
   },
   "source": [
    "Vi definierar en RBF kernel."
   ]
  },
  {
   "cell_type": "code",
   "execution_count": 27,
   "metadata": {
    "slideshow": {
     "slide_type": "fragment"
    }
   },
   "outputs": [],
   "source": [
    "kernel = GPy.kern.RBF(input_dim=1, variance=1., lengthscale=1.)"
   ]
  },
  {
   "cell_type": "markdown",
   "metadata": {
    "slideshow": {
     "slide_type": "skip"
    }
   },
   "source": [
    "## GP modell utan optimering"
   ]
  },
  {
   "cell_type": "code",
   "execution_count": 28,
   "metadata": {
    "slideshow": {
     "slide_type": "fragment"
    }
   },
   "outputs": [],
   "source": [
    "m = GPy.models.GPRegression(x,y,kernel)"
   ]
  },
  {
   "cell_type": "markdown",
   "metadata": {
    "slideshow": {
     "slide_type": "skip"
    }
   },
   "source": [
    "Modellen konstrueras per default med lite brus (detta kan man givetvis ändra på). Vi använder funktionen 'display' för att se detaljer om modellen som vi har konstruerat innan vi ritar upp den."
   ]
  },
  {
   "cell_type": "code",
   "execution_count": 29,
   "metadata": {
    "slideshow": {
     "slide_type": "skip"
    }
   },
   "outputs": [
    {
     "data": {
      "text/html": [
       "<style type=\"text/css\">\n",
       ".pd{\n",
       "    font-family: \"Courier New\", Courier, monospace !important;\n",
       "    width: 100%;\n",
       "    padding: 3px;\n",
       "}\n",
       "</style>\n",
       "\n",
       "<p class=pd>\n",
       "<b>Model</b>: GP regression<br>\n",
       "<b>Objective</b>: 23.00549336414689<br>\n",
       "<b>Number of Parameters</b>: 3<br>\n",
       "<b>Number of Optimization Parameters</b>: 3<br>\n",
       "<b>Updates</b>: True<br>\n",
       "</p>\n",
       "<style type=\"text/css\">\n",
       ".tg  {font-family:\"Courier New\", Courier, monospace !important;padding:2px 3px;word-break:normal;border-collapse:collapse;border-spacing:0;border-color:#DCDCDC;margin:0px auto;width:100%;}\n",
       ".tg td{font-family:\"Courier New\", Courier, monospace !important;font-weight:bold;color:#444;background-color:#F7FDFA;border-style:solid;border-width:1px;overflow:hidden;word-break:normal;border-color:#DCDCDC;}\n",
       ".tg th{font-family:\"Courier New\", Courier, monospace !important;font-weight:normal;color:#fff;background-color:#26ADE4;border-style:solid;border-width:1px;overflow:hidden;word-break:normal;border-color:#DCDCDC;}\n",
       ".tg .tg-left{font-family:\"Courier New\", Courier, monospace !important;font-weight:normal;text-align:left;}\n",
       ".tg .tg-center{font-family:\"Courier New\", Courier, monospace !important;font-weight:normal;text-align:center;}\n",
       ".tg .tg-right{font-family:\"Courier New\", Courier, monospace !important;font-weight:normal;text-align:right;}\n",
       "</style>\n",
       "<table class=\"tg\"><tr><th><b>  GP_regression.         </b></th><th><b>value</b></th><th><b>constraints</b></th><th><b>priors</b></th></tr>\n",
       "<tr><td class=tg-left>  rbf.variance           </td><td class=tg-right>  1.0</td><td class=tg-center>    +ve    </td><td class=tg-center>      </td></tr>\n",
       "<tr><td class=tg-left>  rbf.lengthscale        </td><td class=tg-right>  1.0</td><td class=tg-center>    +ve    </td><td class=tg-center>      </td></tr>\n",
       "<tr><td class=tg-left>  Gaussian_noise.variance</td><td class=tg-right>  1.0</td><td class=tg-center>    +ve    </td><td class=tg-center>      </td></tr>\n",
       "</table>"
      ],
      "text/plain": [
       "<GPy.models.gp_regression.GPRegression at 0x134bb3748>"
      ]
     },
     "metadata": {},
     "output_type": "display_data"
    },
    {
     "data": {
      "image/png": "[encoded data removed]",
      "text/plain": [
       "<matplotlib.figure.Figure at 0x134c0ce48>"
      ]
     },
     "metadata": {},
     "output_type": "display_data"
    }
   ],
   "source": [
    "from IPython.display import display\n",
    "display(m)\n",
    "fig = m.plot()"
   ]
  },
  {
   "cell_type": "markdown",
   "metadata": {
    "slideshow": {
     "slide_type": "skip"
    }
   },
   "source": [
    "Inte särskilt imponerande. Det skuggade bandet motsvarar 95% konfidensintervall (dvs +/- 2 standardavvikelser)."
   ]
  },
  {
   "cell_type": "markdown",
   "metadata": {
    "slideshow": {
     "slide_type": "skip"
    }
   },
   "source": [
    "## Optimerad GP modell"
   ]
  },
  {
   "cell_type": "markdown",
   "metadata": {
    "slideshow": {
     "slide_type": "skip"
    }
   },
   "source": [
    "Nu är det dags att optimera GP modellen. Vi konstruerar modellen igen men försöker hitta de modellparametrar (varians, längdskala) som maximerar sannolikheten likelihood) att observera just denna data."
   ]
  },
  {
   "cell_type": "code",
   "execution_count": 30,
   "metadata": {
    "slideshow": {
     "slide_type": "skip"
    }
   },
   "outputs": [
    {
     "name": "stdout",
     "output_type": "stream",
     "text": [
      "Running L-BFGS-B (Scipy implementation) Code:\n",
      "  runtime   i      f              |g|        \n",
      "    00s02  0006  -1.587157e+01   1.094179e+02 \n",
      "    00s05  0017  -1.958829e+01   8.597359e-04 \n",
      "    00s09  0026  -1.961517e+01   1.111500e-04 \n",
      "    00s10  0029  -1.961518e+01   7.375215e-12 \n",
      "    00s11  0030  -1.961518e+01   7.375215e-12 \n",
      "Runtime:     00s11\n",
      "Optimization status: Converged\n",
      "\n"
     ]
    },
    {
     "data": {
      "text/plain": [
       "<paramz.optimization.optimization.opt_lbfgsb at 0x135bf24a8>"
      ]
     },
     "execution_count": 30,
     "metadata": {},
     "output_type": "execute_result"
    }
   ],
   "source": [
    "kernel = GPy.kern.RBF(input_dim=1, variance=1., lengthscale=1.)\n",
    "m = GPy.models.GPRegression(x,y,kernel)\n",
    "m.optimize(messages=True)"
   ]
  },
  {
   "cell_type": "code",
   "execution_count": 31,
   "metadata": {
    "slideshow": {
     "slide_type": "skip"
    }
   },
   "outputs": [
    {
     "data": {
      "text/html": [
       "<style type=\"text/css\">\n",
       ".pd{\n",
       "    font-family: \"Courier New\", Courier, monospace !important;\n",
       "    width: 100%;\n",
       "    padding: 3px;\n",
       "}\n",
       "</style>\n",
       "\n",
       "<p class=pd>\n",
       "<b>Model</b>: GP regression<br>\n",
       "<b>Objective</b>: -19.615182381303452<br>\n",
       "<b>Number of Parameters</b>: 3<br>\n",
       "<b>Number of Optimization Parameters</b>: 3<br>\n",
       "<b>Updates</b>: True<br>\n",
       "</p>\n",
       "<style type=\"text/css\">\n",
       ".tg  {font-family:\"Courier New\", Courier, monospace !important;padding:2px 3px;word-break:normal;border-collapse:collapse;border-spacing:0;border-color:#DCDCDC;margin:0px auto;width:100%;}\n",
       ".tg td{font-family:\"Courier New\", Courier, monospace !important;font-weight:bold;color:#444;background-color:#F7FDFA;border-style:solid;border-width:1px;overflow:hidden;word-break:normal;border-color:#DCDCDC;}\n",
       ".tg th{font-family:\"Courier New\", Courier, monospace !important;font-weight:normal;color:#fff;background-color:#26ADE4;border-style:solid;border-width:1px;overflow:hidden;word-break:normal;border-color:#DCDCDC;}\n",
       ".tg .tg-left{font-family:\"Courier New\", Courier, monospace !important;font-weight:normal;text-align:left;}\n",
       ".tg .tg-center{font-family:\"Courier New\", Courier, monospace !important;font-weight:normal;text-align:center;}\n",
       ".tg .tg-right{font-family:\"Courier New\", Courier, monospace !important;font-weight:normal;text-align:right;}\n",
       "</style>\n",
       "<table class=\"tg\"><tr><th><b>  GP_regression.         </b></th><th><b>               value</b></th><th><b>constraints</b></th><th><b>priors</b></th></tr>\n",
       "<tr><td class=tg-left>  rbf.variance           </td><td class=tg-right>  3.6636864469690558</td><td class=tg-center>    +ve    </td><td class=tg-center>      </td></tr>\n",
       "<tr><td class=tg-left>  rbf.lengthscale        </td><td class=tg-right>  2.3816491769068544</td><td class=tg-center>    +ve    </td><td class=tg-center>      </td></tr>\n",
       "<tr><td class=tg-left>  Gaussian_noise.variance</td><td class=tg-right>0.001130486250890581</td><td class=tg-center>    +ve    </td><td class=tg-center>      </td></tr>\n",
       "</table>"
      ],
      "text/plain": [
       "<GPy.models.gp_regression.GPRegression at 0x135c6b128>"
      ]
     },
     "metadata": {},
     "output_type": "display_data"
    },
    {
     "data": {
      "image/png": "[encoded data removed]",
      "text/plain": [
       "<matplotlib.figure.Figure at 0x1343c3438>"
      ]
     },
     "metadata": {},
     "output_type": "display_data"
    }
   ],
   "source": [
    "display(m)\n",
    "fig = m.plot(plot_density=True)"
   ]
  },
  {
   "cell_type": "markdown",
   "metadata": {
    "slideshow": {
     "slide_type": "fragment"
    }
   },
   "source": [
    "Vi använder datan som vi genererade ovan (och studerar hur vår modell blir bättre i takt med att vi lägger till mer data) "
   ]
  },
  {
   "cell_type": "code",
   "execution_count": 32,
   "metadata": {
    "slideshow": {
     "slide_type": "subslide"
    }
   },
   "outputs": [
    {
     "name": "stdout",
     "output_type": "stream",
     "text": [
      "Running L-BFGS-B (Scipy implementation) Code:\n",
      "  runtime   i      f              |g|        \n",
      "    00s01  0005   3.770669e+00   1.730130e+01 \n",
      "    00s03  0013   9.864801e-01   3.896196e-07 \n",
      "    00s04  0016   9.864333e-01   3.277358e-08 \n",
      "    00s06  0024   9.864297e-01   2.714134e-11 \n",
      "    00s06  0025   9.864297e-01   2.714134e-11 \n",
      "Runtime:     00s06\n",
      "Optimization status: Converged\n",
      "\n",
      "Running L-BFGS-B (Scipy implementation) Code:\n",
      "  runtime   i      f              |g|        \n",
      "    00s01  0005   4.277688e+00   2.981307e+00 \n",
      "    00s04  0013   3.307212e+00   4.635529e-03 \n",
      "    00s06  0019   3.290049e+00   2.737357e-07 \n",
      "    00s08  0025   3.289716e+00   1.865869e-06 \n",
      "    00s09  0029   3.289708e+00   4.945401e-09 \n",
      "    00s10  0032   3.289708e+00   7.067447e-11 \n",
      "Runtime:     00s10\n",
      "Optimization status: Converged\n",
      "\n",
      "Running L-BFGS-B (Scipy implementation) Code:\n",
      "  runtime   i      f              |g|        \n",
      "    00s01  0004   2.260508e+00   2.224909e+01 \n",
      "    00s01  0006   4.531032e+02   5.515472e+05 \n",
      "    00s04  0016  -1.419214e+00   7.440537e-09 \n",
      "    00s04  0018  -1.419214e+00   2.527427e-11 \n",
      "Runtime:     00s04\n",
      "Optimization status: Converged\n",
      "\n",
      "Running L-BFGS-B (Scipy implementation) Code:\n",
      "  runtime   i      f              |g|        \n",
      "    00s00  0004   1.097137e+05   5.238816e+09 \n",
      "    00s01  0005   1.022427e+01   2.076379e+03 \n",
      "    00s04  0014  -1.421268e+01   9.420381e-01 \n",
      "    00s06  0023  -1.481915e+01   2.803121e-01 \n",
      "    00s08  0029  -1.484951e+01   5.708999e-12 \n",
      "    00s08  0030  -1.484951e+01   5.708999e-12 \n",
      "Runtime:     00s08\n",
      "Optimization status: Converged\n",
      "\n"
     ]
    },
    {
     "data": {
      "image/png": "[encoded data removed]",
      "text/plain": [
       "<matplotlib.figure.Figure at 0x11d62fd30>"
      ]
     },
     "metadata": {},
     "output_type": "display_data"
    }
   ],
   "source": [
    "fig = GPy.plotting.plotting_library().figure(2, 2)\n",
    "\n",
    "for i,ni in enumerate([2,4,8,16]):\n",
    "    # Create model from data and kernel\n",
    "    kernel = GPy.kern.RBF(input_dim=1, variance=1., lengthscale=1.)\n",
    "    m = GPy.models.GPRegression(x[:ni], y[:ni],kernel)\n",
    "    # Optimize the model parameters to maximize the data likelihood\n",
    "    m.optimize(messages=True)\n",
    "    # Plot. Shaded bands indicate 95% confidence interval.\n",
    "    m.plot(figure=fig, row=(i//2+1), col=(i%2+1),legend=False)\n",
    "    ax =plt.gca()\n",
    "    ax.set_xlim([-3,3]); ax.set_ylim([-1.5,1.5])\n",
    "    ax.text(0.1,0.8,'N=%i' %ni,transform=ax.transAxes)"
   ]
  },
  {
   "cell_type": "markdown",
   "metadata": {
    "slideshow": {
     "slide_type": "subslide"
    }
   },
   "source": [
    "Minns ni de stora parameterrummen i chiral EFT,\n",
    "\n",
    "... och den stora beräkningskostnaden för att göra en prediktion?\n",
    "\n",
    "Tänk er då att försöka göra en osäkerhetsanalys på en sådan teori."
   ]
  },
  {
   "cell_type": "markdown",
   "metadata": {
    "slideshow": {
     "slide_type": "subslide"
    }
   },
   "source": [
    "### Chiral effective field theory with machine learning\n",
    "#### Bachelor’s thesis in Subatomic Physics<br/>Johannes Aspman, Emil Ejbyfeldt, Anton Kollmats, Maximilian Leyman, 2016 [pdf](publications.lib.chalmers.se/records/fulltext/241791/241791.pdf)\n",
    "![](figures/boundstate_predict100000.png)\n",
    "11 parametrar, 100 träningspunkter, 100.000 emuleringar"
   ]
  },
  {
   "cell_type": "markdown",
   "metadata": {
    "slideshow": {
     "slide_type": "skip"
    }
   },
   "source": [
    "Joint probability distribution of the radius of the deuteron, Rpt−p(2H), and the binding energy of the alpha particle, E(4He) for NLO. The black line is from 12,000 calculations with nsopt, dashed red lines are from 100,000 points predicted using 100 training points."
   ]
  },
  {
   "cell_type": "markdown",
   "metadata": {
    "slideshow": {
     "slide_type": "slide"
    }
   },
   "source": [
    "# Slutsats"
   ]
  },
  {
   "cell_type": "markdown",
   "metadata": {
    "slideshow": {
     "slide_type": "fragment"
    }
   },
   "source": [
    "Här framträder en bild av en modern ingenjör. Vi har gjort:\n",
    "* lite fysik, lite statistik, lite beräkningsfysik och lite maskininlärning;\n",
    "* tillsammans ger detta verktyg att ta oss an en väldigt bred palett av utmaningar;\n",
    "* och att försöka förstå vad våra resultat innebär."
   ]
  },
  {
   "cell_type": "markdown",
   "metadata": {
    "slideshow": {
     "slide_type": "fragment"
    }
   },
   "source": [
    "Vem kan klara något sådant?"
   ]
  },
  {
   "cell_type": "markdown",
   "metadata": {
    "slideshow": {
     "slide_type": "fragment"
    }
   },
   "source": [
    "Svar: en fysiker"
   ]
  },
  {
   "cell_type": "markdown",
   "metadata": {
    "slideshow": {
     "slide_type": "subslide"
    }
   },
   "source": [
    "## Data science"
   ]
  },
  {
   "cell_type": "markdown",
   "metadata": {},
   "source": [
    "[The Data Science Venn Diagram](http://drewconway.com/zia/2013/3/26/the-data-science-venn-diagram) by Drew Conway."
   ]
  },
  {
   "cell_type": "markdown",
   "metadata": {},
   "source": [
    "![](figures/Data_Science_VD.png)"
   ]
  },
  {
   "cell_type": "markdown",
   "metadata": {
    "slideshow": {
     "slide_type": "skip"
    }
   },
   "source": [
    "How to read the Data Science Venn Diagram\n",
    "\n",
    "The primary colors of data: hacking skills, math and stats knowledge, and substantive expertise\n",
    "\n",
    "* On Monday we spent a lot of time talking about \"where\" a course on data science might exist at a university. The conversation was largely rhetorical, as everyone was well aware of the inherent interdisciplinary nature of the these skills; but then, why have I highlighted these three? First, none is discipline specific, but more importantly, each of these skills are on their own very valuable, but when combined with only one other are at best simply not data science, or at worst downright dangerous.\n",
    "* For better or worse, data is a commodity traded electronically; therefore, in order to be in this market you need to speak hacker. This, however, does not require a background in computer science—in fact—many of the most impressive hackers I have met never took a single CS course. Being able to manipulate text files at the command-line, understanding vectorized operations, thinking algorithmically; these are the hacking skills that make for a successful data hacker.\n",
    "* Once you have acquired and cleaned the data, the next step is to actually extract insight from it. In order to do this, you need to apply appropriate math and statistics methods, which requires at least a baseline familiarity with these tools. This is not to say that a PhD in statistics in required to be a competent data scientist, but it does require knowing what an ordinary least squares regression is and how to interpret it.\n",
    "* In the third critical piece—substance—is where my thoughts on data science diverge from most of what has already been written on the topic. To me, data plus math and statistics only gets you machine learning, which is great if that is what you are interested in, but not if you are doing data science. Science is about discovery and building knowledge, which requires some motivating questions about the world and hypotheses that can be brought to data and tested with statistical methods. On the flip-side, substantive expertise plus math and statistics knowledge is where most traditional researcher falls. Doctoral level researchers spend most of their time acquiring expertise in these areas, but very little time learning about technology. Part of this is the culture of academia, which does not reward researchers for understanding technology. That said, I have met many young academics and graduate students that are eager to bucking that tradition.\n",
    "* Finally, a word on the hacking skills plus substantive expertise danger zone. This is where I place people who, \"know enough to be dangerous,\" and is the most problematic area of the diagram. In this area people who are perfectly capable of extracting and structuring data, likely related to a field they know quite a bit about, and probably even know enough R to run a linear regression and report the coefficients; but they lack any understanding of what those coefficients mean. It is from this part of the diagram that the phrase \"lies, damned lies, and statistics\" emanates, because either through ignorance or malice this overlap of skills gives people the ability to create what appears to be a legitimate analysis without any understanding of how they got there or what they have created. Fortunately, it requires near willful ignorance to acquire hacking skills and substantive expertise without also learning some math and statistics along the way. As such, the danger zone is sparsely populated, however, it does not take many to produce a lot of damage."
   ]
  },
  {
   "cell_type": "markdown",
   "metadata": {
    "slideshow": {
     "slide_type": "subslide"
    }
   },
   "source": [
    "## The Pi-shaped scientist"
   ]
  },
  {
   "cell_type": "markdown",
   "metadata": {},
   "source": [
    "Introduced by Alex Szalay.\n",
    "![](figures/pi_shaped.png)"
   ]
  },
  {
   "cell_type": "markdown",
   "metadata": {
    "slideshow": {
     "slide_type": "skip"
    }
   },
   "source": [
    "In the words of Alex Szalay, these sorts of researchers must be \"Pi-shaped\" as opposed to the more traditional \"T-shaped\" researcher. In Szalay's view, a classic PhD program generates T-shaped researchers: scientists with wide-but-shallow general knowledge, but deep skill and expertise in one particular area. The new breed of scientific researchers, the data scientists, must be Pi-shaped: that is, they maintain the same wide breadth, but push deeper both in their own subject area and in the statistical or computational methods that help drive modern research:"
   ]
  },
  {
   "cell_type": "markdown",
   "metadata": {
    "slideshow": {
     "slide_type": "subslide"
    }
   },
   "source": [
    "I detta sammanhang kan jag avslutningsvis nämna att det pågår ett intensivt arbete att skapa ett nytt mastersprogram i fysik (kommer att sjösättas hösten 2019)\n",
    "* som utnyttjar kunskapsbredden och problemlösarförmågan som finns hos dagens fysikstudenter (och teknisk matematik) \n",
    "* samt expertisen som finns hos lärarna, \n",
    "* där det fortfarande erbjuds möjlighet till fördjupning,\n",
    "* men där kursutbudet anpassas för att lära ut en uppdaterad uppsättning med verktyg och förmågor.\n",
    "\n",
    "Dvs en **Pi-formad** ingenjör!"
   ]
  },
  {
   "cell_type": "code",
   "execution_count": null,
   "metadata": {},
   "outputs": [],
   "source": []
  }
 ],
 "metadata": {
  "celltoolbar": "Slideshow",
  "kernelspec": {
   "display_name": "Python 3",
   "language": "python",
   "name": "python3"
  },
  "language_info": {
   "codemirror_mode": {
    "name": "ipython",
    "version": 3
   },
   "file_extension": ".py",
   "mimetype": "text/x-python",
   "name": "python",
   "nbconvert_exporter": "python",
   "pygments_lexer": "ipython3",
   "version": "3.5.4"
  }
 },
 "nbformat": 4,
 "nbformat_minor": 2
}
